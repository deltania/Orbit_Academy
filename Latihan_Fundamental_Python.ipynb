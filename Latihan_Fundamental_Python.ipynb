{
  "nbformat": 4,
  "nbformat_minor": 0,
  "metadata": {
    "colab": {
      "name": "Latihan Fundamental Python",
      "provenance": [],
      "authorship_tag": "ABX9TyOd3XNYTOdwf1ns5Q2Ow9ZN",
      "include_colab_link": true
    },
    "kernelspec": {
      "name": "python3",
      "display_name": "Python 3"
    },
    "language_info": {
      "name": "python"
    }
  },
  "cells": [
    {
      "cell_type": "markdown",
      "metadata": {
        "id": "view-in-github",
        "colab_type": "text"
      },
      "source": [
        "<a href=\"https://colab.research.google.com/github/deltania/Orbit_Academy/blob/main/Latihan_Fundamental_Python.ipynb\" target=\"_parent\"><img src=\"https://colab.research.google.com/assets/colab-badge.svg\" alt=\"Open In Colab\"/></a>"
      ]
    },
    {
      "cell_type": "markdown",
      "metadata": {
        "id": "yczkVYOme1nH"
      },
      "source": [
        "1. Penulisan satu statement di dalam Python tidak diakhiri dengan tanda titik-koma\n",
        "\n",
        "\n",
        "\n",
        "print(\"Halo Dunia\")\n",
        "\n",
        "print(\"Panjang = 100\")\n",
        "\n",
        "print(\"lebar = 23\")\n",
        "\n",
        "print(\"Saya suka belajar python\")"
      ]
    },
    {
      "cell_type": "code",
      "metadata": {
        "colab": {
          "base_uri": "https://localhost:8080/"
        },
        "id": "dU9_DWQhfGjR",
        "outputId": "8d3d5aee-181b-437a-de4e-52425d511c53"
      },
      "source": [
        "print(\"Halo Dunia\")\n",
        "print(\"Panjang = 100\")\n",
        "print(\"lebar = 23\")\n",
        "print(\"Saya suka belajar python\")"
      ],
      "execution_count": 1,
      "outputs": [
        {
          "output_type": "stream",
          "name": "stdout",
          "text": [
            "Halo Dunia\n",
            "Panjang = 100\n",
            "lebar = 23\n",
            "Saya suka belajar python\n"
          ]
        }
      ]
    },
    {
      "cell_type": "markdown",
      "metadata": {
        "id": "MxmLo6xZfh5a"
      },
      "source": [
        "2. Statement pada Pyhton dinyatakan dalam satu baris. Jadi akhir dari sebuah pernyataan adalah baris baru (new line).\n",
        "\n",
        "print(\"luas = panjang * lebar\")\n",
        " \n"
      ]
    },
    {
      "cell_type": "code",
      "metadata": {
        "colab": {
          "base_uri": "https://localhost:8080/"
        },
        "id": "wx02F9kIgV7V",
        "outputId": "b0d65559-6909-41d3-9318-00a66d514043"
      },
      "source": [
        "print(\"luas = panjang * lebar\")"
      ],
      "execution_count": 2,
      "outputs": [
        {
          "output_type": "stream",
          "name": "stdout",
          "text": [
            "luas = panjang * lebar\n"
          ]
        }
      ]
    },
    {
      "cell_type": "markdown",
      "metadata": {
        "id": "IXb9XLcNgeJL"
      },
      "source": [
        "3. Jika ada pernyataan yang panjangnya terdiri lebih dari 1 baris, maka dapat dilakukan dengan menggunakan tanda backslash ( \\ ) .\n",
        "\n",
        "\n",
        "print(\"volume = panjang * lebar * \\ tinggi\")"
      ]
    },
    {
      "cell_type": "code",
      "metadata": {
        "colab": {
          "base_uri": "https://localhost:8080/"
        },
        "id": "_bjR-HRIgmPF",
        "outputId": "5fc5702f-6980-41a5-a5d1-61b85b2ec6ae"
      },
      "source": [
        "print(\"volume = panjang * lebar * \\ tinggi\")"
      ],
      "execution_count": 3,
      "outputs": [
        {
          "output_type": "stream",
          "name": "stdout",
          "text": [
            "volume = panjang * lebar * \\ tinggi\n"
          ]
        }
      ]
    },
    {
      "cell_type": "markdown",
      "metadata": {
        "id": "I5fXPwaGhUTs"
      },
      "source": [
        "4. Statement yang ada di dalam atau diapit oleh tanda kurung seperti \"[],{},()\" tidak memerlukan tanda \"\"\n",
        "\n",
        "\n",
        "\n",
        "nama_hari = ['senin','selasa','rabu','kamis','jumat','sabtu']\n",
        "\n",
        "\n",
        "print(nama_hari)\n"
      ]
    },
    {
      "cell_type": "code",
      "metadata": {
        "colab": {
          "base_uri": "https://localhost:8080/"
        },
        "id": "vVFEfOPZhz9m",
        "outputId": "4b4fd78c-d0a4-49fc-9729-f51413b69126"
      },
      "source": [
        "nama_hari = ['senin','selasa','rabu','kamis','jumat','sabtu']\n",
        "\n",
        "print(nama_hari)\n"
      ],
      "execution_count": 4,
      "outputs": [
        {
          "output_type": "stream",
          "name": "stdout",
          "text": [
            "['senin', 'selasa', 'rabu', 'kamis', 'jumat', 'sabtu']\n"
          ]
        }
      ]
    },
    {
      "cell_type": "markdown",
      "metadata": {
        "id": "Lq3ygS2QiGIk"
      },
      "source": [
        "5. Python menggunakan tanda indentasi (spasi) sebagai penanda blok. Panjang spasi atau indentasi untuk setiap baris yang ada dalam satu blok kode harus sama. Bila spasi atau indentasi dalam satu grup kode tersebut tidak sama, python akan menamplikan sintaks error\n",
        "\n",
        "\n",
        "usia = 7\n",
        "\n",
        "\n",
        "if usia >= 7:\n",
        "\n",
        "\n",
        "    print(\"diterima masuk SD\")\n",
        "    print(\"dinyatakan lulus\")\n",
        "    \n",
        "else :\n",
        "\n",
        "    print(\"tidak diterima masuk SD\")\n",
        "    print(\"dinyatakan gagal\")\n"
      ]
    },
    {
      "cell_type": "code",
      "metadata": {
        "colab": {
          "base_uri": "https://localhost:8080/"
        },
        "id": "vXcHv-e0jDJJ",
        "outputId": "da501c69-b773-46fc-d067-d5190f7aa5ac"
      },
      "source": [
        "usia = 7\n",
        "if usia >= 7:\n",
        "        print(\"diterima masuk SD\")\n",
        "        print(\"dinyatakan lulus\")\n",
        "\n",
        "else :\n",
        "        print(\"tidak diterima masuk SD\")\n",
        "        print(\"dinyatakan gagal\")"
      ],
      "execution_count": 5,
      "outputs": [
        {
          "output_type": "stream",
          "name": "stdout",
          "text": [
            "diterima masuk SD\n",
            "dinyatakan lulus\n"
          ]
        }
      ]
    },
    {
      "cell_type": "markdown",
      "metadata": {
        "id": "8nv7SkXijl4r"
      },
      "source": [
        "6. Sebaga penanda string, Python menggunakan tanda kutip, baik tunggal ('), maupun ganda(\"). Tanda kutip tiga(\"\"\") digunakan untuk string multibaris.\n",
        "\n",
        "namadepan = 'Delta'\n",
        "\n",
        "namalengkap = \"Deltania\"\n",
        "\n",
        "alinea = \"\"\"Berikut ini adalah alinea yang terdiri dari beberapa baris.\"\"\"\n",
        "\n",
        "print(namadepan)\n",
        "\n",
        "print(namalengkap)\n",
        "\n",
        "print(alinea)"
      ]
    },
    {
      "cell_type": "code",
      "metadata": {
        "colab": {
          "base_uri": "https://localhost:8080/"
        },
        "id": "dSnKB5ADk3Fb",
        "outputId": "742ccd9a-2b04-4243-c00e-d9fc6d29f13c"
      },
      "source": [
        "namadepan = 'Delta'\n",
        "namalengkap = \"Deltania\"\n",
        "alinea = \"\"\"Berikut ini adalah alinea yang terdiri dari beberapa baris\"\"\"\n",
        "print(namadepan)\n",
        "print(namalengkap)\n",
        "print(alinea)"
      ],
      "execution_count": 6,
      "outputs": [
        {
          "output_type": "stream",
          "name": "stdout",
          "text": [
            "Delta\n",
            "Deltania\n",
            "Berikut ini adalah alinea yang terdiri dari beberapa baris\n"
          ]
        }
      ]
    },
    {
      "cell_type": "markdown",
      "metadata": {
        "id": "0yI321ZMmBDC"
      },
      "source": [
        "7. Bahasa Python bersifat case sensitif, yang berarti membedakan huruf besar dan huruf kecil (memiliki nilai yang berbeda).\n",
        "\n",
        "# contoh statement yang benar\n",
        "luas = 15*3\n",
        "\n",
        "print(luas)\n",
        "# contoh statement yang salah\n",
        "luas = 15*3\n",
        "#print(luas)\n",
        "print(luas)\n",
        "\n",
        "print(luas)\n"
      ]
    },
    {
      "cell_type": "code",
      "metadata": {
        "id": "lwOlULn5mqRl",
        "colab": {
          "base_uri": "https://localhost:8080/"
        },
        "outputId": "80d2430d-b98d-4009-b919-c5426b14a863"
      },
      "source": [
        "luas = 15*3\n",
        "print(luas)\n",
        "print(luas)\n",
        "print(luas)"
      ],
      "execution_count": 7,
      "outputs": [
        {
          "output_type": "stream",
          "name": "stdout",
          "text": [
            "45\n",
            "45\n",
            "45\n"
          ]
        }
      ]
    },
    {
      "cell_type": "markdown",
      "metadata": {
        "id": "hIA-mlA5w-tl"
      },
      "source": [
        ""
      ]
    },
    {
      "cell_type": "markdown",
      "metadata": {
        "id": "dAwKkH3xysAT"
      },
      "source": [
        "8. Untuk Komentar diawali dengan tanda \"#\" yang artinya tidak diproses sebagai statement code.\n",
        "\n",
        "# contoh\n",
        "\n",
        "# perintah untuk menghitung luas\n",
        "\n",
        "panjang = 15\n",
        "\n",
        "lebar = 3\n",
        "\n",
        "luas = (Panjang*Lebar)\n",
        "\n",
        "print(luas)\n",
        "\n",
        "**Nilai Prioritas Operator dalam Python - Part1**\n",
        "# Kode awal\n",
        "\n",
        "total_harga = 150000\n",
        "\n",
        "potongan_harga = 0.3\n",
        "\n",
        "pajak = 0.1 # pajak dalam persen ~ 10%\n",
        "\n",
        "harga_bayar = 1 - 0.3 # baris pertama\n",
        "\n",
        "harga_bayar *= total_harga # baris kedua\n",
        "\n",
        "pajak_bayar = pajak * harga_bayar # baris ketiga\n",
        "\n",
        "Harga bayar += pajak bayar # baris ke-4\n",
        "\n",
        "print(\"kode awal - harga_bayar=\", harga_bayar)\n",
        "\n",
        "# Penyederhanaan baris kode dengan menerapkan prioritas operator\n",
        "\n",
        "total_harga = 150000\n",
        "\n",
        "potongan_harga = 0.3\n",
        "\n",
        "pajak = 0.1 # pajak dalam persen ~ 10%\n",
        "\n",
        "harga_bayar = (1 - 0.3) * total_harga #baris pertama\n",
        "\n",
        "harga_bayar += harga_bayar * pajak # baris kedua\n",
        "\n",
        "print(\"Penyederhanaan kode - harga_bayar=\", harga_bayar)\n",
        "\n",
        "sepatu = { \"nama\": \"Sepatu Niko\", \"harga\": 150000, \"diskon\": 30000 }\n",
        "\n",
        "baju = { \"nama\" : \"Baju Unikloh\", \"harga\": 80000, \"diskon\": 8000 }\n",
        "\n",
        "celana = { \"nama\" : \"Celana Levis\", \"harga\": 200000, \"diskon\": 6000 }\n",
        "\n",
        "harga_sepatu = sepatu[\"harga\"] - Sepatu[\"diskon\"]\n",
        "\n",
        "harga_baju = baju[\"harga\"] - baju[\"diskon\"]\n",
        "\n",
        "harga_celana = celana[\"harga\"] - celana[\"diskon\"]\n",
        "\n",
        "total_harga = (hargasepatu + harga_baju + harga_celana) * 1.1\n",
        "\n",
        "print(total_harga)\n",
        "\n",
        "tagihan_ke = 'Mr. Yoyo'\n",
        "\n",
        "warehousing = { 'harga_harian': 1000000, 'total_hari':15 }\n",
        "\n",
        "cleansing = { 'harga_harian': 1500000, 'total_hari':10 }\n",
        "\n",
        "integration = { 'harga_harian': 2000000, 'total_hari':15 }\n",
        "\n",
        "transform = { 'harga_harian': 2500000, 'total_hari':10 }\n",
        "\n",
        "sub_warehousing = warehousing['harga_harian'] * warehousing['total_hari']\n",
        "\n",
        "\n",
        "\n",
        "\n"
      ]
    }
  ]
}