{
  "nbformat": 4,
  "nbformat_minor": 0,
  "metadata": {
    "kernelspec": {
      "display_name": "Python 3",
      "language": "python",
      "name": "python3"
    },
    "language_info": {
      "codemirror_mode": {
        "name": "ipython",
        "version": 3
      },
      "file_extension": ".py",
      "mimetype": "text/x-python",
      "name": "python",
      "nbconvert_exporter": "python",
      "pygments_lexer": "ipython3",
      "version": "3.7.4"
    },
    "colab": {
      "name": "Salinan dari Exercise - 2.ipynb",
      "provenance": [],
      "include_colab_link": true
    }
  },
  "cells": [
    {
      "cell_type": "markdown",
      "metadata": {
        "id": "view-in-github",
        "colab_type": "text"
      },
      "source": [
        "<a href=\"https://colab.research.google.com/github/deltania/Orbit_Academy/blob/main/Salinan_dari_Exercise_2.ipynb\" target=\"_parent\"><img src=\"https://colab.research.google.com/assets/colab-badge.svg\" alt=\"Open In Colab\"/></a>"
      ]
    },
    {
      "cell_type": "code",
      "metadata": {
        "id": "_KC6jw7EDb4Y",
        "outputId": "dce44f13-2fbf-4449-8146-b79e5911fa25",
        "colab": {
          "base_uri": "https://localhost:8080/"
        }
      },
      "source": [
        "# 1. Membuat Tuple dan Cek typenya\n",
        "fruits = (\"apple\", \"banana\", \"cherry\", \"orange\", \"kiwi\", \"melon\", \"mango\")\n",
        "type(fruits)"
      ],
      "execution_count": 1,
      "outputs": [
        {
          "output_type": "execute_result",
          "data": {
            "text/plain": [
              "tuple"
            ]
          },
          "metadata": {},
          "execution_count": 1
        }
      ]
    },
    {
      "cell_type": "code",
      "metadata": {
        "id": "5_GIrWuxDb4f",
        "outputId": "72781f83-0b0c-40a1-cbbe-8b7a5a025463",
        "colab": {
          "base_uri": "https://localhost:8080/"
        }
      },
      "source": [
        "len(fruits)"
      ],
      "execution_count": 2,
      "outputs": [
        {
          "output_type": "execute_result",
          "data": {
            "text/plain": [
              "7"
            ]
          },
          "metadata": {},
          "execution_count": 2
        }
      ]
    },
    {
      "cell_type": "code",
      "metadata": {
        "id": "NUWUY_m8Db4g",
        "outputId": "33de5715-e4a7-4a52-c761-f05c985a6c38",
        "colab": {
          "base_uri": "https://localhost:8080/"
        }
      },
      "source": [
        "# 2. Ambil item apple sebanyak 2, orange 1, mango 3\n",
        "# Simpan dengan nama variable add\n",
        "add = fruits[0],fruits[0],fruits[3],fruits[6],fruits[6],fruits[6]\n",
        "add"
      ],
      "execution_count": 3,
      "outputs": [
        {
          "output_type": "execute_result",
          "data": {
            "text/plain": [
              "('apple', 'apple', 'orange', 'mango', 'mango', 'mango')"
            ]
          },
          "metadata": {},
          "execution_count": 3
        }
      ]
    },
    {
      "cell_type": "code",
      "metadata": {
        "id": "Vj5PnI_dDb4h",
        "outputId": "5f6e4cc0-5482-46ce-8559-c838ab525772",
        "colab": {
          "base_uri": "https://localhost:8080/"
        }
      },
      "source": [
        "# 3. Buat variable new dengan berisi gabungkan variable add dengan variable fruits\n",
        "# Urutkan isi variable new\n",
        "new = fruits + add\n",
        "sorted(new)"
      ],
      "execution_count": 4,
      "outputs": [
        {
          "output_type": "execute_result",
          "data": {
            "text/plain": [
              "['apple',\n",
              " 'apple',\n",
              " 'apple',\n",
              " 'banana',\n",
              " 'cherry',\n",
              " 'kiwi',\n",
              " 'mango',\n",
              " 'mango',\n",
              " 'mango',\n",
              " 'mango',\n",
              " 'melon',\n",
              " 'orange',\n",
              " 'orange']"
            ]
          },
          "metadata": {},
          "execution_count": 4
        }
      ]
    },
    {
      "cell_type": "code",
      "metadata": {
        "id": "mlamlGIfDb4i",
        "outputId": "c9457447-192b-4fbf-c2f4-53740564a995",
        "colab": {
          "base_uri": "https://localhost:8080/"
        }
      },
      "source": [
        "# 4. Ubah variable new dari type data tuple menjadi set\n",
        "# Tambahkan item pear\n",
        "# Hitung jumlah itemnya\n",
        "new = set(new)\n",
        "new.add(\"pear\")\n",
        "print(new)\n",
        "len(new)"
      ],
      "execution_count": 5,
      "outputs": [
        {
          "output_type": "stream",
          "name": "stdout",
          "text": [
            "{'banana', 'mango', 'melon', 'cherry', 'apple', 'pear', 'orange', 'kiwi'}\n"
          ]
        },
        {
          "output_type": "execute_result",
          "data": {
            "text/plain": [
              "8"
            ]
          },
          "metadata": {},
          "execution_count": 5
        }
      ]
    },
    {
      "cell_type": "code",
      "metadata": {
        "id": "EBnddDR3Db4j",
        "outputId": "3741c740-addd-44eb-af2c-9bb087483ede",
        "colab": {
          "base_uri": "https://localhost:8080/"
        }
      },
      "source": [
        "# 5. Buat variable cars dengan ketentuan\n",
        "cars = {\"Toyota Vios\":270000000,\n",
        "       \"Toyota Yaris\":235000000,\n",
        "       \"Honda Civic\":400000000,\n",
        "       \"Nissan Skyline\":690000000,\n",
        "       \"Honda City\":312000000}\n",
        "print(cars)\n",
        "type(cars)"
      ],
      "execution_count": 6,
      "outputs": [
        {
          "output_type": "stream",
          "name": "stdout",
          "text": [
            "{'Toyota Vios': 270000000, 'Toyota Yaris': 235000000, 'Honda Civic': 400000000, 'Nissan Skyline': 690000000, 'Honda City': 312000000}\n"
          ]
        },
        {
          "output_type": "execute_result",
          "data": {
            "text/plain": [
              "dict"
            ]
          },
          "metadata": {},
          "execution_count": 6
        }
      ]
    },
    {
      "cell_type": "code",
      "metadata": {
        "id": "K212n2kYDb4j",
        "outputId": "eab0e95b-4414-4ba3-d536-202ad94642e7",
        "colab": {
          "base_uri": "https://localhost:8080/"
        }
      },
      "source": [
        "# 6. Tambahkan key dan value dibawah ini\n",
        "# BMW M3:1900000000\n",
        "# urutkan berdasarkan item\n",
        "cars[\"BMW M3\"]=1900000000\n",
        "sorted(cars.items())"
      ],
      "execution_count": 7,
      "outputs": [
        {
          "output_type": "execute_result",
          "data": {
            "text/plain": [
              "[('BMW M3', 1900000000),\n",
              " ('Honda City', 312000000),\n",
              " ('Honda Civic', 400000000),\n",
              " ('Nissan Skyline', 690000000),\n",
              " ('Toyota Vios', 270000000),\n",
              " ('Toyota Yaris', 235000000)]"
            ]
          },
          "metadata": {},
          "execution_count": 7
        }
      ]
    },
    {
      "cell_type": "code",
      "metadata": {
        "id": "4sOqIKrsDb4l",
        "outputId": "3f2c0c36-0335-4f27-92c3-d4c55e4e947a",
        "colab": {
          "base_uri": "https://localhost:8080/"
        }
      },
      "source": [
        "# 7. Ubah value Nissan Skyline menjadi 641000000\n",
        "cars[\"Nissan Skyline\"] = 641000000\n",
        "cars"
      ],
      "execution_count": 8,
      "outputs": [
        {
          "output_type": "execute_result",
          "data": {
            "text/plain": [
              "{'BMW M3': 1900000000,\n",
              " 'Honda City': 312000000,\n",
              " 'Honda Civic': 400000000,\n",
              " 'Nissan Skyline': 641000000,\n",
              " 'Toyota Vios': 270000000,\n",
              " 'Toyota Yaris': 235000000}"
            ]
          },
          "metadata": {},
          "execution_count": 8
        }
      ]
    },
    {
      "cell_type": "code",
      "metadata": {
        "id": "rXYPc80ODb4m",
        "outputId": "bd65d839-1a50-4ae7-d65e-18adcada4525",
        "colab": {
          "base_uri": "https://localhost:8080/"
        }
      },
      "source": [
        "# 8. Ubah key Nissan Skyline menjadi Honda Accord\n",
        "# Cara 1\n",
        "cars[\"Honda Accord\"] = cars.pop(\"Nissan Skyline\")\n",
        "cars"
      ],
      "execution_count": 9,
      "outputs": [
        {
          "output_type": "execute_result",
          "data": {
            "text/plain": [
              "{'BMW M3': 1900000000,\n",
              " 'Honda Accord': 641000000,\n",
              " 'Honda City': 312000000,\n",
              " 'Honda Civic': 400000000,\n",
              " 'Toyota Vios': 270000000,\n",
              " 'Toyota Yaris': 235000000}"
            ]
          },
          "metadata": {},
          "execution_count": 9
        }
      ]
    },
    {
      "cell_type": "code",
      "metadata": {
        "id": "3p-aeLmfDb4n"
      },
      "source": [
        "# 8. Ubah key Nissan Skyline menjadi Honda Accord\n",
        "# Cara 2\n",
        "#cars[\"Honda Accord\"] = cars[\"Nissan Skyline\"]\n",
        "#del cars[\"Nissan Skyline\"]\n",
        "#cars"
      ],
      "execution_count": 10,
      "outputs": []
    },
    {
      "cell_type": "code",
      "metadata": {
        "id": "4qE-Rd1kDb4o",
        "outputId": "49784a8f-5b0c-4366-8da5-0d9841fa628d",
        "colab": {
          "base_uri": "https://localhost:8080/"
        }
      },
      "source": [
        "# 9. Buat variable cars_set dengan type data set berisi value dari variable cars\n",
        "# buat variable cars_total dengan berisi total dari seluruh item \n",
        "# cetak hasilnya\n",
        "cars_set = set(cars.values())\n",
        "cars_total = sum(cars_set)\n",
        "cars_total"
      ],
      "execution_count": 11,
      "outputs": [
        {
          "output_type": "execute_result",
          "data": {
            "text/plain": [
              "3758000000"
            ]
          },
          "metadata": {},
          "execution_count": 11
        }
      ]
    },
    {
      "cell_type": "code",
      "metadata": {
        "id": "T_4naestDb4o",
        "outputId": "505d887f-820f-4bc7-c07a-cff228a433a4",
        "colab": {
          "base_uri": "https://localhost:8080/"
        }
      },
      "source": [
        "# 10. Tambahkan key Total pada variable cars dengan value cars_total\n",
        "# cetak hasilnya\n",
        "cars[\"Total\"] = cars_total\n",
        "cars"
      ],
      "execution_count": 12,
      "outputs": [
        {
          "output_type": "execute_result",
          "data": {
            "text/plain": [
              "{'BMW M3': 1900000000,\n",
              " 'Honda Accord': 641000000,\n",
              " 'Honda City': 312000000,\n",
              " 'Honda Civic': 400000000,\n",
              " 'Total': 3758000000,\n",
              " 'Toyota Vios': 270000000,\n",
              " 'Toyota Yaris': 235000000}"
            ]
          },
          "metadata": {},
          "execution_count": 12
        }
      ]
    },
    {
      "cell_type": "markdown",
      "metadata": {
        "id": "SKWohIAoDfF5"
      },
      "source": [
        "# Conditional Test\n",
        "\n",
        "A conditional test is an expression that can be evaluated as True or False. Python uses the values True and False to decide whether the code in an if statement should be executed.\n",
        "\n",
        "```\n",
        "# This is formatted as code\n",
        "```\n",
        "\n"
      ]
    },
    {
      "cell_type": "markdown",
      "metadata": {
        "id": "8jKdBElXEW2x"
      },
      "source": [
        "### Checking for equality \n",
        "A single equal sign assigns a value to a variable. A double equal sign (==) checks whether two values are equal.\n"
      ]
    },
    {
      "cell_type": "code",
      "metadata": {
        "colab": {
          "base_uri": "https://localhost:8080/"
        },
        "id": "6DOQ0pGtEb43",
        "outputId": "9e75e349-350b-437f-96e9-8085f6b74d86"
      },
      "source": [
        "car = 'bmw' \n",
        "car == 'bmw' "
      ],
      "execution_count": 13,
      "outputs": [
        {
          "output_type": "execute_result",
          "data": {
            "text/plain": [
              "True"
            ]
          },
          "metadata": {},
          "execution_count": 13
        }
      ]
    },
    {
      "cell_type": "markdown",
      "metadata": {
        "id": "pb8yjbXeEdzg"
      },
      "source": [
        "### Ignoring case when making a comparison. "
      ]
    },
    {
      "cell_type": "code",
      "metadata": {
        "colab": {
          "base_uri": "https://localhost:8080/"
        },
        "id": "b10Nhxf8Ejpp",
        "outputId": "d971b67c-0168-4b97-e08e-4ba3123efe81"
      },
      "source": [
        "car = 'Audi' \n",
        "car.lower() == 'audi'"
      ],
      "execution_count": 14,
      "outputs": [
        {
          "output_type": "execute_result",
          "data": {
            "text/plain": [
              "True"
            ]
          },
          "metadata": {},
          "execution_count": 14
        }
      ]
    },
    {
      "cell_type": "markdown",
      "metadata": {
        "id": "rJBym-RsEnD8"
      },
      "source": [
        "### Checking for inequality"
      ]
    },
    {
      "cell_type": "code",
      "metadata": {
        "id": "hWnaCoTOErR5",
        "outputId": "43b37494-53d5-4dbd-952f-7c950da845a2",
        "colab": {
          "base_uri": "https://localhost:8080/"
        }
      },
      "source": [
        "topping = 'mushrooms' \n",
        "topping != 'anchovies'"
      ],
      "execution_count": 15,
      "outputs": [
        {
          "output_type": "execute_result",
          "data": {
            "text/plain": [
              "True"
            ]
          },
          "metadata": {},
          "execution_count": 15
        }
      ]
    },
    {
      "cell_type": "markdown",
      "metadata": {
        "id": "VKnuMeE-Et2x"
      },
      "source": [
        "# Numerical comparison\n",
        "\n",
        "Testing numerical values is similar to testing string values."
      ]
    },
    {
      "cell_type": "markdown",
      "metadata": {
        "id": "1NK8gL0JEw8A"
      },
      "source": [
        "### Testing equality and inequality"
      ]
    },
    {
      "cell_type": "code",
      "metadata": {
        "id": "jSnNidCYEze3",
        "outputId": "de5ab9a2-1472-4cca-aa25-d0aa598ce1c7",
        "colab": {
          "base_uri": "https://localhost:8080/"
        }
      },
      "source": [
        "age = 18 \n",
        "age == 18"
      ],
      "execution_count": 16,
      "outputs": [
        {
          "output_type": "execute_result",
          "data": {
            "text/plain": [
              "True"
            ]
          },
          "metadata": {},
          "execution_count": 16
        }
      ]
    },
    {
      "cell_type": "code",
      "metadata": {
        "id": "YJC3VigxE1bb",
        "outputId": "c81cbc06-0f35-4db1-8008-767abcf0c70d",
        "colab": {
          "base_uri": "https://localhost:8080/"
        }
      },
      "source": [
        "age = 18 \n",
        "age != 18"
      ],
      "execution_count": 17,
      "outputs": [
        {
          "output_type": "execute_result",
          "data": {
            "text/plain": [
              "False"
            ]
          },
          "metadata": {},
          "execution_count": 17
        }
      ]
    },
    {
      "cell_type": "code",
      "metadata": {
        "id": "pKcP5KBrE4ls",
        "outputId": "bcc51df5-ef6a-43c2-95df-f31c2ec9b044",
        "colab": {
          "base_uri": "https://localhost:8080/"
        }
      },
      "source": [
        "age = 19 \n",
        "age < 21"
      ],
      "execution_count": 18,
      "outputs": [
        {
          "output_type": "execute_result",
          "data": {
            "text/plain": [
              "True"
            ]
          },
          "metadata": {},
          "execution_count": 18
        }
      ]
    },
    {
      "cell_type": "code",
      "metadata": {
        "id": "UbQRFLtlE6cX",
        "outputId": "18d7c143-1e25-45b1-b1aa-3f2f173ecb49",
        "colab": {
          "base_uri": "https://localhost:8080/"
        }
      },
      "source": [
        "age = 19 \n",
        "age > 21 "
      ],
      "execution_count": 19,
      "outputs": [
        {
          "output_type": "execute_result",
          "data": {
            "text/plain": [
              "False"
            ]
          },
          "metadata": {},
          "execution_count": 19
        }
      ]
    },
    {
      "cell_type": "markdown",
      "metadata": {
        "id": "c5PGMHqIE7rw"
      },
      "source": [
        "# Checking multiple conditions\n",
        "\n",
        "You can check multiple conditions at the same time. The and operator returns True if all conditions listed are True. The or operator returns True if any condition is True\n"
      ]
    },
    {
      "cell_type": "markdown",
      "metadata": {
        "id": "nDVySl02E-Gw"
      },
      "source": [
        "### Using 'and' to check multiple conditions\n"
      ]
    },
    {
      "cell_type": "code",
      "metadata": {
        "id": "Pzm4zyPtFBDc",
        "outputId": "ab135502-0654-4ea1-a71c-42f7d20d3c11",
        "colab": {
          "base_uri": "https://localhost:8080/"
        }
      },
      "source": [
        "age_0 = 22\n",
        "age_1 = 18\n",
        "age_0 >= 21 and age_1 >= 21"
      ],
      "execution_count": 20,
      "outputs": [
        {
          "output_type": "execute_result",
          "data": {
            "text/plain": [
              "False"
            ]
          },
          "metadata": {},
          "execution_count": 20
        }
      ]
    },
    {
      "cell_type": "code",
      "metadata": {
        "id": "ExJC68ryFDdF",
        "outputId": "6947d1d8-b61e-477e-82cc-49ddc42e407c",
        "colab": {
          "base_uri": "https://localhost:8080/"
        }
      },
      "source": [
        "age_0 = 22\n",
        "age_1 = 23\n",
        "age_0 >= 21 and age_1 >= 21"
      ],
      "execution_count": 21,
      "outputs": [
        {
          "output_type": "execute_result",
          "data": {
            "text/plain": [
              "True"
            ]
          },
          "metadata": {},
          "execution_count": 21
        }
      ]
    },
    {
      "cell_type": "markdown",
      "metadata": {
        "id": "0S72zf0-FG1-"
      },
      "source": [
        "### Using 'or' to check multiple conditions\n"
      ]
    },
    {
      "cell_type": "code",
      "metadata": {
        "id": "KSY8ABrUFKys",
        "outputId": "bc097f46-9e06-4aaf-fd78-4b21b10e3abe",
        "colab": {
          "base_uri": "https://localhost:8080/"
        }
      },
      "source": [
        "age_0 = 22\n",
        "age_1 = 18\n",
        "age_0 >= 21 or age_1 >= 21"
      ],
      "execution_count": 22,
      "outputs": [
        {
          "output_type": "execute_result",
          "data": {
            "text/plain": [
              "True"
            ]
          },
          "metadata": {},
          "execution_count": 22
        }
      ]
    },
    {
      "cell_type": "code",
      "metadata": {
        "id": "bO4Vfv5-FNbK",
        "outputId": "a27b0106-1852-4c99-f8ca-ca1c3301501e",
        "colab": {
          "base_uri": "https://localhost:8080/"
        }
      },
      "source": [
        "age_0 = 18\n",
        "age_1 = 18\n",
        "age_0 >= 21 or age_1 >= 21"
      ],
      "execution_count": 23,
      "outputs": [
        {
          "output_type": "execute_result",
          "data": {
            "text/plain": [
              "False"
            ]
          },
          "metadata": {},
          "execution_count": 23
        }
      ]
    },
    {
      "cell_type": "markdown",
      "metadata": {
        "id": "L0cSRKJGFQS_"
      },
      "source": [
        "# if statements\n",
        "\n",
        "Several kinds of if statements exist. Your choice of which to use depends on the number of conditions you need to test. You can have as many elif block as you need, and the else block is always optional"
      ]
    },
    {
      "cell_type": "markdown",
      "metadata": {
        "id": "17O_F0saFTDC"
      },
      "source": [
        "### Simple if statement\n"
      ]
    },
    {
      "cell_type": "code",
      "metadata": {
        "id": "pF5s47-NFVfQ",
        "outputId": "3eb76f93-887f-4a17-b8f8-12e9743835fe",
        "colab": {
          "base_uri": "https://localhost:8080/"
        }
      },
      "source": [
        "age = 19\n",
        "\n",
        "if age >= 18:\n",
        "\tprint(\"You're old enough to vote!\")"
      ],
      "execution_count": 24,
      "outputs": [
        {
          "output_type": "stream",
          "name": "stdout",
          "text": [
            "You're old enough to vote!\n"
          ]
        }
      ]
    },
    {
      "cell_type": "markdown",
      "metadata": {
        "id": "0w-I67LVFYSW"
      },
      "source": [
        "### if-else-statements"
      ]
    },
    {
      "cell_type": "code",
      "metadata": {
        "id": "UdnviOBrFbOy",
        "outputId": "2d721e15-b918-47f5-f1bf-f2be72626425",
        "colab": {
          "base_uri": "https://localhost:8080/"
        }
      },
      "source": [
        "age = 17\n",
        "\n",
        "if age >= 18:\n",
        "\tprint(\"You're old enough to vote!\")\n",
        "else:\n",
        "\tprint(\"You can’t vote yet.\")"
      ],
      "execution_count": 25,
      "outputs": [
        {
          "output_type": "stream",
          "name": "stdout",
          "text": [
            "You can’t vote yet.\n"
          ]
        }
      ]
    },
    {
      "cell_type": "markdown",
      "metadata": {
        "id": "Myj0V11WFd4L"
      },
      "source": [
        "# Conditional test with list\n",
        "\n",
        "You can easily test whether a certain value is in a list. You can also test whether a list is empty before trying to loop through the list."
      ]
    },
    {
      "cell_type": "markdown",
      "metadata": {
        "id": "o4xhmy1MFhCw"
      },
      "source": [
        "### Testing if a value is in a list"
      ]
    },
    {
      "cell_type": "code",
      "metadata": {
        "id": "_1ZxSAA7FjU0",
        "outputId": "6363c78a-f699-42f4-c660-4ebaf11c4a7e",
        "colab": {
          "base_uri": "https://localhost:8080/"
        }
      },
      "source": [
        "players = ['al', 'bea', 'cyn', 'dale']\n",
        "'al' in players "
      ],
      "execution_count": 26,
      "outputs": [
        {
          "output_type": "execute_result",
          "data": {
            "text/plain": [
              "True"
            ]
          },
          "metadata": {},
          "execution_count": 26
        }
      ]
    },
    {
      "cell_type": "code",
      "metadata": {
        "id": "8gwVfzTnFmQH",
        "outputId": "acbfef69-9608-4737-941b-596865ca049f",
        "colab": {
          "base_uri": "https://localhost:8080/"
        }
      },
      "source": [
        "players = ['al', 'bea', 'cyn', 'dale']\n",
        "'eric' in players"
      ],
      "execution_count": 27,
      "outputs": [
        {
          "output_type": "execute_result",
          "data": {
            "text/plain": [
              "False"
            ]
          },
          "metadata": {},
          "execution_count": 27
        }
      ]
    },
    {
      "cell_type": "markdown",
      "metadata": {
        "id": "z0Gieq5XFoZz"
      },
      "source": [
        "### Conditional test with lists (cont.)"
      ]
    },
    {
      "cell_type": "markdown",
      "metadata": {
        "id": "apzQ0tQPFp4b"
      },
      "source": [
        "### Testing if a value is not in a list\n"
      ]
    },
    {
      "cell_type": "code",
      "metadata": {
        "id": "WXr1WZXvFtca",
        "outputId": "c0ff3b28-1dc0-4adc-df06-79b091733bf3",
        "colab": {
          "base_uri": "https://localhost:8080/"
        }
      },
      "source": [
        "banned_users = ['ann', 'chad', 'dee'] \n",
        "user = 'erin' \n",
        "\n",
        "if user not in banned_users:     \n",
        "    print(\"You can play!\")"
      ],
      "execution_count": 28,
      "outputs": [
        {
          "output_type": "stream",
          "name": "stdout",
          "text": [
            "You can play!\n"
          ]
        }
      ]
    },
    {
      "cell_type": "markdown",
      "metadata": {
        "id": "g8hpXRUoFwOF"
      },
      "source": [
        "### Checking if a list is empty\n"
      ]
    },
    {
      "cell_type": "code",
      "metadata": {
        "id": "JMfZVTyvF0I0",
        "outputId": "0fd5a85d-9424-49bf-888f-e4802d263e71",
        "colab": {
          "base_uri": "https://localhost:8080/"
        }
      },
      "source": [
        "players = [] \n",
        "\n",
        "if players:     \n",
        "    for player in players:         \n",
        "        print(\"Player: \" + player.title()) \n",
        "else:     \n",
        "        print(\"We have no players yet!\") "
      ],
      "execution_count": 29,
      "outputs": [
        {
          "output_type": "stream",
          "name": "stdout",
          "text": [
            "We have no players yet!\n"
          ]
        }
      ]
    },
    {
      "cell_type": "markdown",
      "metadata": {
        "id": "ckBZ-QeXF2qd"
      },
      "source": [
        "# Accepting input\n",
        "\n",
        "You can allow your users to enter input using the input() statement. In Python 3 all input is stored as a string"
      ]
    },
    {
      "cell_type": "markdown",
      "metadata": {
        "id": "cV2sdDooF3pB"
      },
      "source": [
        "### Simple input"
      ]
    },
    {
      "cell_type": "code",
      "metadata": {
        "id": "lEG052-uF6zE"
      },
      "source": [
        "name = input(\"What’s your name? \")\n",
        "print(\"Hello, \"+ name + \".\")"
      ],
      "execution_count": null,
      "outputs": []
    },
    {
      "cell_type": "markdown",
      "metadata": {
        "id": "OX_dRXEZF-ks"
      },
      "source": [
        "### Accepting numerical input"
      ]
    },
    {
      "cell_type": "code",
      "metadata": {
        "id": "kAyYJhiHGBFd"
      },
      "source": [
        "age = input(\"How old are you? \")\n",
        "age = int(age)\n",
        "\n",
        "if age >= 18:\n",
        "\t\tprint(\"\\nYou can vote!\")\n",
        "else:\n",
        "\t\tprint(\"\\nYou can;t vote yet.\")"
      ],
      "execution_count": null,
      "outputs": []
    },
    {
      "cell_type": "markdown",
      "metadata": {
        "id": "E4W8w9nKGDwz"
      },
      "source": [
        "# While loops\n",
        "\n",
        "A while loop repeats a block of code as long as a condition is True "
      ]
    },
    {
      "cell_type": "markdown",
      "metadata": {
        "id": "jEBmY40ZGHEp"
      },
      "source": [
        "### Counting to 5"
      ]
    },
    {
      "cell_type": "markdown",
      "metadata": {
        "id": "qK9z_6cUGKVy"
      },
      "source": [
        "current_number = 1 \n",
        "\n",
        "while current_number <= 5:\n",
        "    print(current_number)     \n",
        "current_number += 1"
      ]
    },
    {
      "cell_type": "markdown",
      "metadata": {
        "id": "7A2zzaXlGLZY"
      },
      "source": [
        "### Letting the user choose when to quit"
      ]
    },
    {
      "cell_type": "code",
      "metadata": {
        "id": "iPkKmC_RGPRC"
      },
      "source": [
        "prompt = \"\\nTell me something, and I’ll \"\n",
        "prompt += \"\\repeat it back to you. \"\n",
        "prompt += \"\\nEnter ‘quit’ to end the program.\"\n",
        "\n",
        "message = \"\"\n",
        "while message != 'quit':\n",
        "    message = input(prompt)\n",
        "\n",
        "if message != 'quit':\n",
        "    print(message)"
      ],
      "execution_count": null,
      "outputs": []
    },
    {
      "cell_type": "markdown",
      "metadata": {
        "id": "b7ylqiccGScY"
      },
      "source": [
        "### Using a flag"
      ]
    },
    {
      "cell_type": "code",
      "metadata": {
        "id": "W4pZmH7ZGUV7"
      },
      "source": [
        "prompt = \"\\nTell me something, and I’ll \"\n",
        "prompt += \"\\repeat it back to you. \"\n",
        "prompt += \"\\nEnter ‘quit’ to end the program.\"\n",
        "\n",
        "active = True\n",
        "while active:\n",
        "    message = input(prompt)\n",
        "    \n",
        "    if message == 'quit':\n",
        "        active = False\n",
        "    else:\n",
        "        print(message)"
      ],
      "execution_count": null,
      "outputs": []
    },
    {
      "cell_type": "markdown",
      "metadata": {
        "id": "NAEcPKGhGW0j"
      },
      "source": [
        "### Using break to exit a loop"
      ]
    },
    {
      "cell_type": "code",
      "metadata": {
        "id": "_KIwnjXhGYxh"
      },
      "source": [
        "prompt = \"\\nWhat cities have you visited\"\n",
        "prompt += \"\\nEnter ‘quit’ when you’re done. \"\n",
        "\n",
        "while True:\n",
        "    city = input(prompt)\n",
        "\n",
        "    if city == 'quit':\n",
        "        break \n",
        "    else:\n",
        "        print(\"I’ve been to \" + city + \"!\")"
      ],
      "execution_count": null,
      "outputs": []
    },
    {
      "cell_type": "markdown",
      "metadata": {
        "id": "BqS0eOerGbic"
      },
      "source": [
        "# Thank You"
      ]
    }
  ]
}