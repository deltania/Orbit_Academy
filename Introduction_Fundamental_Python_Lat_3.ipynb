{
  "nbformat": 4,
  "nbformat_minor": 0,
  "metadata": {
    "colab": {
      "name": "Introduction Fundamental Python Lat 3.ipynb",
      "provenance": [],
      "authorship_tag": "ABX9TyPSaVTrQFTI/FoO4lh9rHmE",
      "include_colab_link": true
    },
    "kernelspec": {
      "name": "python3",
      "display_name": "Python 3"
    },
    "language_info": {
      "name": "python"
    }
  },
  "cells": [
    {
      "cell_type": "markdown",
      "metadata": {
        "id": "view-in-github",
        "colab_type": "text"
      },
      "source": [
        "<a href=\"https://colab.research.google.com/github/deltania/Orbit_Academy/blob/main/Introduction_Fundamental_Python_Lat_3.ipynb\" target=\"_parent\"><img src=\"https://colab.research.google.com/assets/colab-badge.svg\" alt=\"Open In Colab\"/></a>"
      ]
    },
    {
      "cell_type": "markdown",
      "metadata": {
        "id": "Uluc9YA2Caz0"
      },
      "source": [
        "Belajar Python\n",
        "\n",
        "Intro Python\n",
        "\n",
        "List Pembahasan Python Basic"
      ]
    },
    {
      "cell_type": "markdown",
      "metadata": {
        "id": "JMQVQrdfClbx"
      },
      "source": [
        "\n",
        "1. Basic Type Object\n",
        "\n",
        "        Numbers\n",
        "\n",
        "        Strings\n",
        "\n",
        "        Boolean\n",
        "\n",
        "        List\n",
        "\n",
        "2.  Structure Data\n",
        "\n"
      ]
    },
    {
      "cell_type": "markdown",
      "metadata": {
        "id": "vniZz5fVCqhz"
      },
      "source": [
        "2.  Basic Python - Aturan Penulisan Statement pada Python"
      ]
    },
    {
      "cell_type": "code",
      "metadata": {
        "colab": {
          "base_uri": "https://localhost:8080/"
        },
        "id": "NVuwO6kPC1PL",
        "outputId": "114b80bf-6c15-47ac-ed68-b0c230cd490e"
      },
      "source": [
        "# 1. Penulisan satu statement di dalam Python tidak diakhiri dengan tanda titik-koma\n",
        "\n",
        "print(\"Halo Dunia!\")\n",
        "\n",
        "print(\"panjang = 100\")\n",
        "\n",
        "print(\"lebar = 23\")\n"
      ],
      "execution_count": 1,
      "outputs": [
        {
          "output_type": "stream",
          "name": "stdout",
          "text": [
            "Halo Dunia!\n",
            "panjang = 100\n",
            "lebar = 23\n"
          ]
        }
      ]
    },
    {
      "cell_type": "code",
      "metadata": {
        "colab": {
          "base_uri": "https://localhost:8080/"
        },
        "id": "zCO7K7KwDGvr",
        "outputId": "c79646fe-9fbe-4456-bd85-2ff8810c61da"
      },
      "source": [
        "# 2. Statement pada Pyhton dinyatakan dalam satu baris. Jadi akhir dari sebuah pernyataan adalah baris baru (new line).\n",
        "print(\"luas = panjang * lebar\")"
      ],
      "execution_count": 2,
      "outputs": [
        {
          "output_type": "stream",
          "name": "stdout",
          "text": [
            "luas = panjang * lebar\n"
          ]
        }
      ]
    },
    {
      "cell_type": "code",
      "metadata": {
        "colab": {
          "base_uri": "https://localhost:8080/"
        },
        "id": "VNLfj0sCDNVz",
        "outputId": "e8a8f552-5fdb-4e93-85ec-bb41fc938c2b"
      },
      "source": [
        "# 3. Jika ada pernyataan yang panjangnya terdiri lebih dari 1 baris, maka dapat dilakukan dengan menggunakan tanda backslash (\\).\n",
        "print(\"volume = panjang * lebar *\\\n",
        " tinggi\")"
      ],
      "execution_count": 3,
      "outputs": [
        {
          "output_type": "stream",
          "name": "stdout",
          "text": [
            "volume = panjang * lebar * tinggi\n"
          ]
        }
      ]
    },
    {
      "cell_type": "code",
      "metadata": {
        "colab": {
          "base_uri": "https://localhost:8080/"
        },
        "id": "ZnpyP2wGDO-g",
        "outputId": "ade0ae55-7860-43a1-dc30-f54ef1ebd6a5"
      },
      "source": [
        "# 4. Statement yang ada di dalam atau diapit oleh tanda kurung seperti \"[],{},()\" tidak memerlukan tanda \"\".\n",
        "nama_hari = ['Senin','Selasa','Rabu','Kamis','Jumat','Sabtu']\n",
        "print(nama_hari)"
      ],
      "execution_count": 4,
      "outputs": [
        {
          "output_type": "stream",
          "name": "stdout",
          "text": [
            "['Senin', 'Selasa', 'Rabu', 'Kamis', 'Jumat', 'Sabtu']\n"
          ]
        }
      ]
    },
    {
      "cell_type": "code",
      "metadata": {
        "colab": {
          "base_uri": "https://localhost:8080/"
        },
        "id": "G25fyJrLDS1d",
        "outputId": "cabdebfa-4dfa-4f1b-f302-4bad87635860"
      },
      "source": [
        "# 5. Python menggunakan tanda indentasi (spasi) sebagai penanda blok. Panjang spasi atau indentasi untuk setiap baris yang ada dalam satu blok kode harus sama. Bila spasi atau indentasi dalam satu grup kode tersebut tidak sama, python akan menamplikan sintaks error.\n",
        "usia = 7\n",
        "if usia >= 7:\n",
        "    print(\"diterima masuk SD\")\n",
        "    print(\"dinyatakan lulus\")\n",
        "else:\n",
        "    print(\"tidak diterima masuk SD\")\n",
        "    print(\"dinyatakan gagal\")"
      ],
      "execution_count": 5,
      "outputs": [
        {
          "output_type": "stream",
          "name": "stdout",
          "text": [
            "diterima masuk SD\n",
            "dinyatakan lulus\n"
          ]
        }
      ]
    },
    {
      "cell_type": "code",
      "metadata": {
        "colab": {
          "base_uri": "https://localhost:8080/"
        },
        "id": "d2t7kEhGDcOh",
        "outputId": "1cd1e243-bb03-4a22-c5c4-ccfca9a9ce51"
      },
      "source": [
        "# 6. Sebaga penanda string, Python menggunakan tanda kutip, baik tunggal ('), maupun ganda(\"). Tanda kutip tiga(\"\"\") digunakan untuk string multibaris.\n",
        "namadepan = 'Alvin'\n",
        "namalengkap = \"Alvin Agusta Wahyono\"\n",
        "alinea = \"\"\"Berikut ini adalah alinea\n",
        "yang terdiri dari beberapa baris.\"\"\"\n",
        "print(namadepan)\n",
        "print(namalengkap)\n",
        "print(alinea)"
      ],
      "execution_count": 6,
      "outputs": [
        {
          "output_type": "stream",
          "name": "stdout",
          "text": [
            "Alvin\n",
            "Alvin Agusta Wahyono\n",
            "Berikut ini adalah alinea\n",
            "yang terdiri dari beberapa baris.\n"
          ]
        }
      ]
    },
    {
      "cell_type": "code",
      "metadata": {
        "colab": {
          "base_uri": "https://localhost:8080/"
        },
        "id": "q9abdEX8D-MK",
        "outputId": "6a270398-3f10-4b51-c6ed-9ba2f737f761"
      },
      "source": [
        "# 7. Bahasa Python bersifat case sensitif, yang berarti membedakan huruf besar dan huruf kecil (memiliki nilai yang berbeda).\n",
        "# Contoh statement yang benar\n",
        "luas = 15*3\n",
        "print(luas)\n",
        "\n",
        "# Contoh statement yang salah\n",
        "#luas = 15*3\n",
        "#Print(luas)\n",
        "#PRINT(luas)"
      ],
      "execution_count": 7,
      "outputs": [
        {
          "output_type": "stream",
          "name": "stdout",
          "text": [
            "45\n"
          ]
        }
      ]
    },
    {
      "cell_type": "code",
      "metadata": {
        "colab": {
          "base_uri": "https://localhost:8080/"
        },
        "id": "0d2-driWEBeR",
        "outputId": "b2a9e273-d4df-4490-92c8-09990fda64e1"
      },
      "source": [
        "# 8. Untuk komentar di awali dengan tanda \"#\" yang artinya tidak diproses sebagai statement code.\n",
        "panjang = 15\n",
        "lebar = 3\n",
        "luas = (panjang*lebar)\n",
        "print(luas)"
      ],
      "execution_count": 8,
      "outputs": [
        {
          "output_type": "stream",
          "name": "stdout",
          "text": [
            "45\n"
          ]
        }
      ]
    },
    {
      "cell_type": "markdown",
      "metadata": {
        "id": "pqLUlwt8EI9z"
      },
      "source": [
        "3. Python as Calculator (Numbers), Assignment, Comparison, Boolean, and Logic Operator"
      ]
    },
    {
      "cell_type": "code",
      "metadata": {
        "colab": {
          "base_uri": "https://localhost:8080/"
        },
        "id": "nh0a_c6YEKNi",
        "outputId": "6533f163-e4cb-4348-a9d2-cdfaf690839c"
      },
      "source": [
        "# Contoh sederhana Boolean\n",
        "nilai = 80\n",
        "nilai > 65\n",
        "nilai < 65"
      ],
      "execution_count": 9,
      "outputs": [
        {
          "output_type": "execute_result",
          "data": {
            "text/plain": [
              "False"
            ]
          },
          "metadata": {},
          "execution_count": 9
        }
      ]
    },
    {
      "cell_type": "markdown",
      "metadata": {
        "id": "Vbo06xJqEQ_D"
      },
      "source": [
        "a. Python Working in Strings and List"
      ]
    },
    {
      "cell_type": "code",
      "metadata": {
        "colab": {
          "base_uri": "https://localhost:8080/"
        },
        "id": "FjaxWaUFER17",
        "outputId": "198b44af-dd06-4288-b9ea-00876e7e91b7"
      },
      "source": [
        "#String pendek\n",
        "print('pendek')\n",
        "print(\"pendek\")\n",
        "print(\"don't\")\n",
        "\n",
        "#Tanda \\ (Menghilangkan pengaruh \"\")\n",
        "print(\"don\\'t\")\n",
        "print(\"\\\"Siap!\\\" kata orang itu\")\n",
        "\n",
        "#String panjang\n",
        "print('''\n",
        "string\n",
        "panjang\n",
        "''')"
      ],
      "execution_count": 10,
      "outputs": [
        {
          "output_type": "stream",
          "name": "stdout",
          "text": [
            "pendek\n",
            "pendek\n",
            "don't\n",
            "don't\n",
            "\"Siap!\" kata orang itu\n",
            "\n",
            "string\n",
            "panjang\n",
            "\n"
          ]
        }
      ]
    },
    {
      "cell_type": "code",
      "metadata": {
        "colab": {
          "base_uri": "https://localhost:8080/"
        },
        "id": "AClmTqCpEWVx",
        "outputId": "b99dc261-e1cb-4f43-c5dd-d2c72aad90cf"
      },
      "source": [
        "#Operator +\n",
        "print(\"Py\" + \"thon\")\n",
        "prefiks = \"di\"\n",
        "dasar_1 = \"terima\"\n",
        "dasar_2 = \"tolak\"\n",
        "print(prefiks + dasar_1)\n",
        "print(prefiks, dasar_2)\n",
        "print(\"Py\" \"thon\")"
      ],
      "execution_count": 11,
      "outputs": [
        {
          "output_type": "stream",
          "name": "stdout",
          "text": [
            "Python\n",
            "diterima\n",
            "di tolak\n",
            "Python\n"
          ]
        }
      ]
    },
    {
      "cell_type": "code",
      "metadata": {
        "colab": {
          "base_uri": "https://localhost:8080/"
        },
        "id": "JgKD7qG-EbDX",
        "outputId": "72b4d36c-2824-46ad-dabe-1624eb0885e4"
      },
      "source": [
        "#Tanda \\ dan r\n",
        "#Tanda \\ berguna sebagai penginterpretasi karakter spesial sedangkan r membuat string menjadi terbaca sebagai raw strings (apa adanya)\n",
        "print(\"ganti baris \\n ke bawah\")  # \\n turun satu baris\n",
        "#print(\"C:\\user\\folder\") # error\n",
        "print(r\"C:\\user\\folder\") # berhasil"
      ],
      "execution_count": 12,
      "outputs": [
        {
          "output_type": "stream",
          "name": "stdout",
          "text": [
            "ganti baris \n",
            " ke bawah\n",
            "C:\\user\\folder\n"
          ]
        }
      ]
    },
    {
      "cell_type": "code",
      "metadata": {
        "colab": {
          "base_uri": "https://localhost:8080/",
          "height": 35
        },
        "id": "Xs5g1HImEfwB",
        "outputId": "f9f1736c-1b93-4992-efba-f6ceaa00fc31"
      },
      "source": [
        "#Indexed\n",
        "kata_sambutan = \"Hello\"\n",
        "kata_sambutan[0]#\tindeks ke 0\n",
        "#kata_sambutan[:2]#\tindeks ke 0 sampai 2 – 1\n",
        "#kata_sambutan[1:2]#\tindeks ke 1 sampai 2 – 1\n",
        "#kata_sambutan[1:]#\tindeks ke 1 sampai terakhir\n",
        "#kata_sambutan[-1]#\tindeks ke 1 dari belakang\n",
        "#kata_sambutan[-0]#\tindeks ke 0\n",
        "#kata_sambutan[:-3]#\tdari indeks ke 0 sampai -3 – 1"
      ],
      "execution_count": 13,
      "outputs": [
        {
          "output_type": "execute_result",
          "data": {
            "application/vnd.google.colaboratory.intrinsic+json": {
              "type": "string"
            },
            "text/plain": [
              "'H'"
            ]
          },
          "metadata": {},
          "execution_count": 13
        }
      ]
    },
    {
      "cell_type": "code",
      "metadata": {
        "colab": {
          "base_uri": "https://localhost:8080/",
          "height": 35
        },
        "id": "pU5RwtTUEmuk",
        "outputId": "0a4aea2d-d42a-45ce-aa2d-ee50ee88be7f"
      },
      "source": [
        "#Metode\n",
        "kata_sambutan.lower() #huruf kecil\n",
        "#kata_sambutan.upper() #huruf besar"
      ],
      "execution_count": 14,
      "outputs": [
        {
          "output_type": "execute_result",
          "data": {
            "application/vnd.google.colaboratory.intrinsic+json": {
              "type": "string"
            },
            "text/plain": [
              "'hello'"
            ]
          },
          "metadata": {},
          "execution_count": 14
        }
      ]
    },
    {
      "cell_type": "code",
      "metadata": {
        "colab": {
          "base_uri": "https://localhost:8080/"
        },
        "id": "hTg4ncw2EqJk",
        "outputId": "ec95904b-40ba-4036-ba71-01378866d2a5"
      },
      "source": [
        "#Fungsi len dan operator in\n",
        "sambutan = kata_sambutan + \", Pak Febri. Ada yang bisa Elen bantu?\"\n",
        "len(sambutan) #panjang karakter len\n",
        "#\"Elen\" in sambutan"
      ],
      "execution_count": 15,
      "outputs": [
        {
          "output_type": "execute_result",
          "data": {
            "text/plain": [
              "43"
            ]
          },
          "metadata": {},
          "execution_count": 15
        }
      ]
    },
    {
      "cell_type": "markdown",
      "metadata": {
        "id": "JJdbYt3HErWl"
      },
      "source": [
        "b. List"
      ]
    },
    {
      "cell_type": "code",
      "metadata": {
        "colab": {
          "base_uri": "https://localhost:8080/"
        },
        "id": "lYikbzvtEt7b",
        "outputId": "ae9b47c6-6f51-4a5b-874f-a9e8c614a128"
      },
      "source": [
        "#Create list\n",
        "akurasi = [0.6,0.7, 0.8, 0.9]\n",
        "kredit = ['macet', 'lancar', 'macet']\n",
        "feature = [1,2,3,4]\n",
        "container_1 = list()\n",
        "container_2 = []\n",
        "type(container_1) # mengecek tipe"
      ],
      "execution_count": 16,
      "outputs": [
        {
          "output_type": "execute_result",
          "data": {
            "text/plain": [
              "list"
            ]
          },
          "metadata": {},
          "execution_count": 16
        }
      ]
    },
    {
      "cell_type": "code",
      "metadata": {
        "colab": {
          "base_uri": "https://localhost:8080/"
        },
        "id": "2DxNVlqiEyBl",
        "outputId": "d2aafb99-e967-48b0-b449-f30e661d12e8"
      },
      "source": [
        "#Concatenating (operator +)\n",
        "akurasi+feature\n",
        "cacah = [1, 3, 5, 7, 9] + [2, 4, 6, 8]\n",
        "dua_list = [akurasi, feature]\n",
        "campur = feature + kredit\n",
        "isinstance(campur, str)\n"
      ],
      "execution_count": 17,
      "outputs": [
        {
          "output_type": "execute_result",
          "data": {
            "text/plain": [
              "False"
            ]
          },
          "metadata": {},
          "execution_count": 17
        }
      ]
    },
    {
      "cell_type": "code",
      "metadata": {
        "colab": {
          "base_uri": "https://localhost:8080/"
        },
        "id": "8XT7AVtKE2sE",
        "outputId": "75483429-3d1d-4de5-f5f3-c67ec901b979"
      },
      "source": [
        "#Indexed\n",
        "feature[0]\n",
        "#feature[:3]\n",
        "#feature[1:]\n",
        "#dua_list[0][2]"
      ],
      "execution_count": 18,
      "outputs": [
        {
          "output_type": "execute_result",
          "data": {
            "text/plain": [
              "1"
            ]
          },
          "metadata": {},
          "execution_count": 18
        }
      ]
    },
    {
      "cell_type": "code",
      "metadata": {
        "id": "H7VDy5AKE5o9"
      },
      "source": [
        "#Edited\n",
        "cacah[1] = 3\n",
        "cacah[1:4] = [9,9,9]"
      ],
      "execution_count": 19,
      "outputs": []
    },
    {
      "cell_type": "code",
      "metadata": {
        "colab": {
          "base_uri": "https://localhost:8080/"
        },
        "id": "sd8LEUVsFKd8",
        "outputId": "d6e5f0ee-5ccb-45a6-d67e-79d992cc4533"
      },
      "source": [
        "lakes = ['superior', 'erie', 'huron', 'ontario', 'powell']\n",
        "len(lakes)"
      ],
      "execution_count": 20,
      "outputs": [
        {
          "output_type": "execute_result",
          "data": {
            "text/plain": [
              "5"
            ]
          },
          "metadata": {},
          "execution_count": 20
        }
      ]
    },
    {
      "cell_type": "code",
      "metadata": {
        "colab": {
          "base_uri": "https://localhost:8080/"
        },
        "id": "eenaS-c0FOP1",
        "outputId": "aa1c2302-2c9d-4114-a034-2a8bc2de534b"
      },
      "source": [
        "numbers = [1, 2, 3, 4, 5]\n",
        "sum(numbers)\n",
        "#max(numbers)\n",
        "#min(numbers)"
      ],
      "execution_count": 21,
      "outputs": [
        {
          "output_type": "execute_result",
          "data": {
            "text/plain": [
              "15"
            ]
          },
          "metadata": {},
          "execution_count": 21
        }
      ]
    },
    {
      "cell_type": "code",
      "metadata": {
        "colab": {
          "base_uri": "https://localhost:8080/"
        },
        "id": "9z1QyRURFPPj",
        "outputId": "6c6975ae-133a-4ada-bee1-95ba24af96a3"
      },
      "source": [
        "any([1, 1, 0, 0, 1, 0])\n",
        "all([1, 1, 1, 1])\n",
        "lakes_sorted_new = sorted(lakes)\n",
        "lakes_sorted_new"
      ],
      "execution_count": 22,
      "outputs": [
        {
          "output_type": "execute_result",
          "data": {
            "text/plain": [
              "['erie', 'huron', 'ontario', 'powell', 'superior']"
            ]
          },
          "metadata": {},
          "execution_count": 22
        }
      ]
    },
    {
      "cell_type": "code",
      "metadata": {
        "colab": {
          "base_uri": "https://localhost:8080/"
        },
        "id": "kXqv4hs_FVkv",
        "outputId": "bb15fd9b-ef6b-4da5-ed42-bf730f9567c6"
      },
      "source": [
        "cities = [\"oslo\", \"delhi\", \"washington\", \"london\", \"seattle\", \"paris\", \"washington\"]\n",
        "cities.count('seattle')\n",
        "#cities.index('washington')"
      ],
      "execution_count": 23,
      "outputs": [
        {
          "output_type": "execute_result",
          "data": {
            "text/plain": [
              "1"
            ]
          },
          "metadata": {},
          "execution_count": 23
        }
      ]
    },
    {
      "cell_type": "code",
      "metadata": {
        "colab": {
          "base_uri": "https://localhost:8080/"
        },
        "id": "kV-s1BGlFYOf",
        "outputId": "a342a896-db6e-4a41-aff7-04f46fb8f1df"
      },
      "source": [
        "cities.reverse()\n",
        "cities"
      ],
      "execution_count": 24,
      "outputs": [
        {
          "output_type": "execute_result",
          "data": {
            "text/plain": [
              "['washington', 'paris', 'seattle', 'london', 'washington', 'delhi', 'oslo']"
            ]
          },
          "metadata": {},
          "execution_count": 24
        }
      ]
    },
    {
      "cell_type": "code",
      "metadata": {
        "colab": {
          "base_uri": "https://localhost:8080/",
          "height": 185
        },
        "id": "7_b_ifAoFn8G",
        "outputId": "bcbf2add-a424-43ac-db31-7824a543c46c"
      },
      "source": [
        "cities.remove(\"brussels\")\n",
        "cities"
      ],
      "execution_count": 25,
      "outputs": [
        {
          "output_type": "error",
          "ename": "ValueError",
          "evalue": "ignored",
          "traceback": [
            "\u001b[0;31m---------------------------------------------------------------------------\u001b[0m",
            "\u001b[0;31mValueError\u001b[0m                                Traceback (most recent call last)",
            "\u001b[0;32m<ipython-input-25-0798d73a86a3>\u001b[0m in \u001b[0;36m<module>\u001b[0;34m()\u001b[0m\n\u001b[0;32m----> 1\u001b[0;31m \u001b[0mcities\u001b[0m\u001b[0;34m.\u001b[0m\u001b[0mremove\u001b[0m\u001b[0;34m(\u001b[0m\u001b[0;34m\"brussels\"\u001b[0m\u001b[0;34m)\u001b[0m\u001b[0;34m\u001b[0m\u001b[0;34m\u001b[0m\u001b[0m\n\u001b[0m\u001b[1;32m      2\u001b[0m \u001b[0mcities\u001b[0m\u001b[0;34m\u001b[0m\u001b[0;34m\u001b[0m\u001b[0m\n",
            "\u001b[0;31mValueError\u001b[0m: list.remove(x): x not in list"
          ]
        }
      ]
    },
    {
      "cell_type": "code",
      "metadata": {
        "id": "ojurgIHmFZX3"
      },
      "source": [
        "cities.append('brussels')\n",
        "cities"
      ],
      "execution_count": null,
      "outputs": []
    },
    {
      "cell_type": "code",
      "metadata": {
        "id": "RTZiaXtpFfBo"
      },
      "source": [
        "cities.sort()\n",
        "cities"
      ],
      "execution_count": null,
      "outputs": []
    },
    {
      "cell_type": "code",
      "metadata": {
        "id": "m5JNj3GVFhle"
      },
      "source": [
        "cities.pop()\n",
        "cities"
      ],
      "execution_count": null,
      "outputs": []
    },
    {
      "cell_type": "code",
      "metadata": {
        "id": "re85A-NfFlSE"
      },
      "source": [
        "more_cities = [\"brussels\", \"copenhagen\"]\n",
        "cities.extend(more_cities)\n",
        "cities"
      ],
      "execution_count": null,
      "outputs": []
    }
  ]
}