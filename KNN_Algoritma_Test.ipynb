{
  "nbformat": 4,
  "nbformat_minor": 0,
  "metadata": {
    "colab": {
      "name": " KNN Algoritma Test.ipynb",
      "provenance": [],
      "collapsed_sections": [],
      "include_colab_link": true
    },
    "kernelspec": {
      "display_name": "Python 3",
      "name": "python3"
    },
    "language_info": {
      "name": "python"
    }
  },
  "cells": [
    {
      "cell_type": "markdown",
      "metadata": {
        "id": "view-in-github",
        "colab_type": "text"
      },
      "source": [
        "<a href=\"https://colab.research.google.com/github/deltania/Orbit_Academy/blob/main/KNN_Algoritma_Test.ipynb\" target=\"_parent\"><img src=\"https://colab.research.google.com/assets/colab-badge.svg\" alt=\"Open In Colab\"/></a>"
      ]
    },
    {
      "cell_type": "code",
      "metadata": {
        "colab": {
          "base_uri": "https://localhost:8080/"
        },
        "id": "32uwKJJtio15",
        "outputId": "359bac20-880a-4944-eceb-938aac5e27a3"
      },
      "source": [
        "!wget -O data.csv https://raw.githubusercontent.com/alifrzky123/belajar-orbit/17e51c35abc7bc52397430aea2f316856174755c/belajar_dataset/konsumen.csv"
      ],
      "execution_count": 1,
      "outputs": [
        {
          "output_type": "stream",
          "name": "stdout",
          "text": [
            "--2021-12-08 08:08:59--  https://raw.githubusercontent.com/alifrzky123/belajar-orbit/17e51c35abc7bc52397430aea2f316856174755c/belajar_dataset/konsumen.csv\n",
            "Resolving raw.githubusercontent.com (raw.githubusercontent.com)... 185.199.110.133, 185.199.108.133, 185.199.109.133, ...\n",
            "Connecting to raw.githubusercontent.com (raw.githubusercontent.com)|185.199.110.133|:443... connected.\n",
            "HTTP request sent, awaiting response... 200 OK\n",
            "Length: 5321884 (5.1M) [text/plain]\n",
            "Saving to: ‘data.csv’\n",
            "\n",
            "data.csv            100%[===================>]   5.08M  --.-KB/s    in 0.1s    \n",
            "\n",
            "2021-12-08 08:09:00 (49.3 MB/s) - ‘data.csv’ saved [5321884/5321884]\n",
            "\n"
          ]
        }
      ]
    },
    {
      "cell_type": "code",
      "metadata": {
        "id": "UoE1sqwdi_lO"
      },
      "source": [
        "import numpy as np\n",
        "import pandas as pd\n",
        "import matplotlib.pyplot as plt"
      ],
      "execution_count": 2,
      "outputs": []
    },
    {
      "cell_type": "code",
      "metadata": {
        "colab": {
          "base_uri": "https://localhost:8080/",
          "height": 521
        },
        "id": "Br4LzleSjSbN",
        "outputId": "2251c73d-5dba-4511-bfab-ab9d20528b63"
      },
      "source": [
        "df = pd.read_csv('data.csv', delimiter = ';')\n",
        "df.head()"
      ],
      "execution_count": 3,
      "outputs": [
        {
          "output_type": "execute_result",
          "data": {
            "text/html": [
              "<div>\n",
              "<style scoped>\n",
              "    .dataframe tbody tr th:only-of-type {\n",
              "        vertical-align: middle;\n",
              "    }\n",
              "\n",
              "    .dataframe tbody tr th {\n",
              "        vertical-align: top;\n",
              "    }\n",
              "\n",
              "    .dataframe thead th {\n",
              "        text-align: right;\n",
              "    }\n",
              "</style>\n",
              "<table border=\"1\" class=\"dataframe\">\n",
              "  <thead>\n",
              "    <tr style=\"text-align: right;\">\n",
              "      <th></th>\n",
              "      <th>SALES DATE</th>\n",
              "      <th>TYPE MOTOR</th>\n",
              "      <th>COLOR</th>\n",
              "      <th>KODE CUSTOMER</th>\n",
              "      <th>JENIS KELAMIN</th>\n",
              "      <th>TANGGAL LAHIR</th>\n",
              "      <th>KECAMATAN SURAT</th>\n",
              "      <th>KOTA SURAT</th>\n",
              "      <th>PROPINSI</th>\n",
              "      <th>STATUS RUMAH</th>\n",
              "      <th>JENIS PENJUALAN STNK</th>\n",
              "      <th>JENIS PENJUALAN SSU</th>\n",
              "      <th>BESAR DP</th>\n",
              "      <th>BESAR CICILAN</th>\n",
              "      <th>LAMA CICILAN</th>\n",
              "      <th>AGAMA</th>\n",
              "      <th>PEKERJAAN</th>\n",
              "      <th>PENGELUARAN</th>\n",
              "      <th>PENDIDIKAN</th>\n",
              "      <th>KEBERSEDIAAN DIHUBUNGI</th>\n",
              "      <th>MERK MOTOR SBLMNYA</th>\n",
              "      <th>TYPE MOTOR SBLMNYA</th>\n",
              "      <th>SMH DIGUNAKAN UNTUK</th>\n",
              "      <th>YG MENGGUNAKAN SMH</th>\n",
              "      <th>HOBI</th>\n",
              "      <th>KETERANGAN</th>\n",
              "      <th>KEWARGANEGARAAN</th>\n",
              "    </tr>\n",
              "  </thead>\n",
              "  <tbody>\n",
              "    <tr>\n",
              "      <th>0</th>\n",
              "      <td>08/08/2019</td>\n",
              "      <td>REVO FIT FI</td>\n",
              "      <td>HITAM</td>\n",
              "      <td>INDIVIDUAL</td>\n",
              "      <td>LAKI-LAKI</td>\n",
              "      <td>25/08/1970</td>\n",
              "      <td>Manyar</td>\n",
              "      <td>Kab. Gresik</td>\n",
              "      <td>Jawa Timur</td>\n",
              "      <td>RUMAH SENDIRI</td>\n",
              "      <td>CASH</td>\n",
              "      <td>CASH</td>\n",
              "      <td>NaN</td>\n",
              "      <td>NaN</td>\n",
              "      <td>NaN</td>\n",
              "      <td>ISLAM</td>\n",
              "      <td>DOKTER</td>\n",
              "      <td>RP 2.000.001,- S/D RP 3.000.000,-</td>\n",
              "      <td>AKADEMI/DIPLOMA</td>\n",
              "      <td>YES</td>\n",
              "      <td>HONDA</td>\n",
              "      <td>AT AUTOMATIC</td>\n",
              "      <td>BERDAGANG</td>\n",
              "      <td>SAYA SENDIRI</td>\n",
              "      <td>Adventure (Petualangan)</td>\n",
              "      <td>NaN</td>\n",
              "      <td>WNI</td>\n",
              "    </tr>\n",
              "    <tr>\n",
              "      <th>1</th>\n",
              "      <td>16/10/2019</td>\n",
              "      <td>REVO FIT FI</td>\n",
              "      <td>HITAM</td>\n",
              "      <td>INDIVIDUAL</td>\n",
              "      <td>LAKI-LAKI</td>\n",
              "      <td>31/03/1972</td>\n",
              "      <td>Driyorejo</td>\n",
              "      <td>Kab. Gresik</td>\n",
              "      <td>Jawa Timur</td>\n",
              "      <td>RUMAH SENDIRI</td>\n",
              "      <td>CASH</td>\n",
              "      <td>CASH</td>\n",
              "      <td>NaN</td>\n",
              "      <td>NaN</td>\n",
              "      <td>NaN</td>\n",
              "      <td>ISLAM</td>\n",
              "      <td>PEGAWAI SWASTA, INDUSTRI</td>\n",
              "      <td>RP 3.000.001,- S/D RP 4.000.000,-</td>\n",
              "      <td>SLTA/SMU</td>\n",
              "      <td>YES</td>\n",
              "      <td>HONDA</td>\n",
              "      <td>SPORT</td>\n",
              "      <td>BERDAGANG</td>\n",
              "      <td>SAYA SENDIRI</td>\n",
              "      <td>Adventure (Petualangan)</td>\n",
              "      <td>NaN</td>\n",
              "      <td>WNI</td>\n",
              "    </tr>\n",
              "    <tr>\n",
              "      <th>2</th>\n",
              "      <td>07/10/2019</td>\n",
              "      <td>REVO FIT FI</td>\n",
              "      <td>HITAM</td>\n",
              "      <td>INDIVIDUAL</td>\n",
              "      <td>LAKI-LAKI</td>\n",
              "      <td>29/12/1998</td>\n",
              "      <td>Cerme</td>\n",
              "      <td>Kab. Gresik</td>\n",
              "      <td>Jawa Timur</td>\n",
              "      <td>RUMAH ORANG TUA / KELUARGA</td>\n",
              "      <td>CASH</td>\n",
              "      <td>CASH</td>\n",
              "      <td>NaN</td>\n",
              "      <td>NaN</td>\n",
              "      <td>NaN</td>\n",
              "      <td>ISLAM</td>\n",
              "      <td>MAHASISWA / PELAJAR</td>\n",
              "      <td>RP 1.000.001,- S/D RP 1.500.000,-</td>\n",
              "      <td>SLTA/SMU</td>\n",
              "      <td>YES</td>\n",
              "      <td>HONDA</td>\n",
              "      <td>SPORT</td>\n",
              "      <td>BERDAGANG</td>\n",
              "      <td>SAYA SENDIRI</td>\n",
              "      <td>Adventure (Petualangan)</td>\n",
              "      <td>NaN</td>\n",
              "      <td>WNI</td>\n",
              "    </tr>\n",
              "    <tr>\n",
              "      <th>3</th>\n",
              "      <td>09/09/2019</td>\n",
              "      <td>REVO FIT FI</td>\n",
              "      <td>HITAM</td>\n",
              "      <td>INDIVIDUAL</td>\n",
              "      <td>LAKI-LAKI</td>\n",
              "      <td>29/01/1983</td>\n",
              "      <td>Menganti</td>\n",
              "      <td>Kab. Gresik</td>\n",
              "      <td>Jawa Timur</td>\n",
              "      <td>RUMAH SENDIRI</td>\n",
              "      <td>CREDIT</td>\n",
              "      <td>CREDIT</td>\n",
              "      <td>1300000.0</td>\n",
              "      <td>634000.0</td>\n",
              "      <td>35.0</td>\n",
              "      <td>ISLAM</td>\n",
              "      <td>PEGAWAI SWASTA, INDUSTRI</td>\n",
              "      <td>RP 1.000.001,- S/D RP 1.500.000,-</td>\n",
              "      <td>SLTA/SMU</td>\n",
              "      <td>YES</td>\n",
              "      <td>HONDA</td>\n",
              "      <td>AT AUTOMATIC</td>\n",
              "      <td>PEMAKAIAN JARAK DEKAT</td>\n",
              "      <td>SAYA SENDIRI</td>\n",
              "      <td>Makan</td>\n",
              "      <td>SOPAN</td>\n",
              "      <td>WNI</td>\n",
              "    </tr>\n",
              "    <tr>\n",
              "      <th>4</th>\n",
              "      <td>07/10/2019</td>\n",
              "      <td>REVO FIT FI</td>\n",
              "      <td>HITAM</td>\n",
              "      <td>INDIVIDUAL</td>\n",
              "      <td>LAKI-LAKI</td>\n",
              "      <td>19/01/1996</td>\n",
              "      <td>Panceng</td>\n",
              "      <td>Kab. Gresik</td>\n",
              "      <td>Jawa Timur</td>\n",
              "      <td>RUMAH SENDIRI</td>\n",
              "      <td>CASH</td>\n",
              "      <td>CASH</td>\n",
              "      <td>NaN</td>\n",
              "      <td>NaN</td>\n",
              "      <td>NaN</td>\n",
              "      <td>ISLAM</td>\n",
              "      <td>MAHASISWA / PELAJAR</td>\n",
              "      <td>RP 1.000.001,- S/D RP 1.500.000,-</td>\n",
              "      <td>SLTA/SMU</td>\n",
              "      <td>YES</td>\n",
              "      <td>HONDA</td>\n",
              "      <td>SPORT</td>\n",
              "      <td>BERDAGANG</td>\n",
              "      <td>SAYA SENDIRI</td>\n",
              "      <td>Adventure (Petualangan)</td>\n",
              "      <td>NaN</td>\n",
              "      <td>WNI</td>\n",
              "    </tr>\n",
              "  </tbody>\n",
              "</table>\n",
              "</div>"
            ],
            "text/plain": [
              "   SALES DATE   TYPE MOTOR  ... KETERANGAN KEWARGANEGARAAN\n",
              "0  08/08/2019  REVO FIT FI  ...        NaN             WNI\n",
              "1  16/10/2019  REVO FIT FI  ...        NaN             WNI\n",
              "2  07/10/2019  REVO FIT FI  ...        NaN             WNI\n",
              "3  09/09/2019  REVO FIT FI  ...      SOPAN             WNI\n",
              "4  07/10/2019  REVO FIT FI  ...        NaN             WNI\n",
              "\n",
              "[5 rows x 27 columns]"
            ]
          },
          "metadata": {},
          "execution_count": 3
        }
      ]
    },
    {
      "cell_type": "code",
      "metadata": {
        "colab": {
          "base_uri": "https://localhost:8080/"
        },
        "id": "qW6gp4-CU4tQ",
        "outputId": "7b734830-1e57-4289-b63d-8380dca64b5a"
      },
      "source": [
        "df.dtypes"
      ],
      "execution_count": 4,
      "outputs": [
        {
          "output_type": "execute_result",
          "data": {
            "text/plain": [
              "SALES DATE                 object\n",
              "TYPE MOTOR                 object\n",
              "COLOR                      object\n",
              "KODE CUSTOMER              object\n",
              "JENIS KELAMIN              object\n",
              "TANGGAL LAHIR              object\n",
              "KECAMATAN SURAT            object\n",
              "KOTA SURAT                 object\n",
              "PROPINSI                   object\n",
              "STATUS RUMAH               object\n",
              "JENIS PENJUALAN STNK       object\n",
              "JENIS PENJUALAN SSU        object\n",
              "BESAR DP                  float64\n",
              "BESAR CICILAN             float64\n",
              "LAMA CICILAN              float64\n",
              "AGAMA                      object\n",
              "PEKERJAAN                  object\n",
              "PENGELUARAN                object\n",
              "PENDIDIKAN                 object\n",
              "KEBERSEDIAAN DIHUBUNGI     object\n",
              "MERK MOTOR SBLMNYA         object\n",
              "TYPE MOTOR SBLMNYA         object\n",
              "SMH DIGUNAKAN UNTUK        object\n",
              "YG MENGGUNAKAN SMH         object\n",
              "HOBI                       object\n",
              "KETERANGAN                 object\n",
              "KEWARGANEGARAAN            object\n",
              "dtype: object"
            ]
          },
          "metadata": {},
          "execution_count": 4
        }
      ]
    },
    {
      "cell_type": "code",
      "metadata": {
        "id": "lSBRlM10VAjp",
        "colab": {
          "base_uri": "https://localhost:8080/"
        },
        "outputId": "e857d52e-be42-4404-a383-9b3f9c02f25f"
      },
      "source": [
        "df.columns"
      ],
      "execution_count": 5,
      "outputs": [
        {
          "output_type": "execute_result",
          "data": {
            "text/plain": [
              "Index(['SALES DATE', 'TYPE MOTOR', 'COLOR', 'KODE CUSTOMER', 'JENIS KELAMIN',\n",
              "       'TANGGAL LAHIR', 'KECAMATAN SURAT', 'KOTA SURAT', 'PROPINSI',\n",
              "       'STATUS RUMAH', 'JENIS PENJUALAN STNK', 'JENIS PENJUALAN SSU',\n",
              "       'BESAR DP', 'BESAR CICILAN', 'LAMA CICILAN', 'AGAMA', 'PEKERJAAN',\n",
              "       'PENGELUARAN', 'PENDIDIKAN', 'KEBERSEDIAAN DIHUBUNGI',\n",
              "       'MERK MOTOR SBLMNYA', 'TYPE MOTOR SBLMNYA', 'SMH DIGUNAKAN UNTUK',\n",
              "       'YG MENGGUNAKAN SMH', 'HOBI', 'KETERANGAN', 'KEWARGANEGARAAN'],\n",
              "      dtype='object')"
            ]
          },
          "metadata": {},
          "execution_count": 5
        }
      ]
    },
    {
      "cell_type": "code",
      "metadata": {
        "colab": {
          "base_uri": "https://localhost:8080/"
        },
        "id": "AwWrFO2rRUx9",
        "outputId": "1d6c5c38-c919-4d63-eb2d-37d39315519d"
      },
      "source": [
        "df.isna().sum()"
      ],
      "execution_count": 6,
      "outputs": [
        {
          "output_type": "execute_result",
          "data": {
            "text/plain": [
              "SALES DATE                    0\n",
              "TYPE MOTOR                    0\n",
              "COLOR                         0\n",
              "KODE CUSTOMER                 0\n",
              "JENIS KELAMIN                 0\n",
              "TANGGAL LAHIR                 0\n",
              "KECAMATAN SURAT               0\n",
              "KOTA SURAT                    0\n",
              "PROPINSI                      0\n",
              "STATUS RUMAH                  0\n",
              "JENIS PENJUALAN STNK          0\n",
              "JENIS PENJUALAN SSU           0\n",
              "BESAR DP                   7688\n",
              "BESAR CICILAN              7688\n",
              "LAMA CICILAN               7688\n",
              "AGAMA                         0\n",
              "PEKERJAAN                     0\n",
              "PENGELUARAN                   0\n",
              "PENDIDIKAN                    0\n",
              "KEBERSEDIAAN DIHUBUNGI        0\n",
              "MERK MOTOR SBLMNYA            0\n",
              "TYPE MOTOR SBLMNYA            0\n",
              "SMH DIGUNAKAN UNTUK           0\n",
              "YG MENGGUNAKAN SMH            0\n",
              "HOBI                          0\n",
              "KETERANGAN                11354\n",
              "KEWARGANEGARAAN               6\n",
              "dtype: int64"
            ]
          },
          "metadata": {},
          "execution_count": 6
        }
      ]
    },
    {
      "cell_type": "code",
      "metadata": {
        "id": "xJ2fLChUWoKP"
      },
      "source": [
        "x = df['TYPE MOTOR']\n",
        "df = df.drop(columns=['TYPE MOTOR','BESAR DP', 'BESAR CICILAN', 'LAMA CICILAN', 'KETERANGAN','SALES DATE', 'TANGGAL LAHIR', 'KEWARGANEGARAAN', 'PROPINSI','KODE CUSTOMER',\n",
        "                      'JENIS KELAMIN', 'KECAMATAN SURAT',\n",
        "                      'KOTA SURAT', 'STATUS RUMAH', 'JENIS PENJUALAN STNK',\n",
        "                      'JENIS PENJUALAN SSU', 'AGAMA','PENGELUARAN',\n",
        "                      'PENDIDIKAN', 'KEBERSEDIAAN DIHUBUNGI', 'MERK MOTOR SBLMNYA',\n",
        "                      'TYPE MOTOR SBLMNYA', 'SMH DIGUNAKAN UNTUK', 'YG MENGGUNAKAN SMH'])"
      ],
      "execution_count": 7,
      "outputs": []
    },
    {
      "cell_type": "code",
      "metadata": {
        "colab": {
          "base_uri": "https://localhost:8080/"
        },
        "id": "-1aCnDApfBmN",
        "outputId": "3b434d95-c277-464d-8156-0ee05ae089c5"
      },
      "source": [
        "x.head()"
      ],
      "execution_count": 8,
      "outputs": [
        {
          "output_type": "execute_result",
          "data": {
            "text/plain": [
              "0    REVO FIT FI\n",
              "1    REVO FIT FI\n",
              "2    REVO FIT FI\n",
              "3    REVO FIT FI\n",
              "4    REVO FIT FI\n",
              "Name: TYPE MOTOR, dtype: object"
            ]
          },
          "metadata": {},
          "execution_count": 8
        }
      ]
    },
    {
      "cell_type": "code",
      "metadata": {
        "colab": {
          "base_uri": "https://localhost:8080/",
          "height": 206
        },
        "id": "pJaZfMC9W9fK",
        "outputId": "f06c563e-24bf-4341-9807-0374d2683f61"
      },
      "source": [
        "df.head()"
      ],
      "execution_count": 9,
      "outputs": [
        {
          "output_type": "execute_result",
          "data": {
            "text/html": [
              "<div>\n",
              "<style scoped>\n",
              "    .dataframe tbody tr th:only-of-type {\n",
              "        vertical-align: middle;\n",
              "    }\n",
              "\n",
              "    .dataframe tbody tr th {\n",
              "        vertical-align: top;\n",
              "    }\n",
              "\n",
              "    .dataframe thead th {\n",
              "        text-align: right;\n",
              "    }\n",
              "</style>\n",
              "<table border=\"1\" class=\"dataframe\">\n",
              "  <thead>\n",
              "    <tr style=\"text-align: right;\">\n",
              "      <th></th>\n",
              "      <th>COLOR</th>\n",
              "      <th>PEKERJAAN</th>\n",
              "      <th>HOBI</th>\n",
              "    </tr>\n",
              "  </thead>\n",
              "  <tbody>\n",
              "    <tr>\n",
              "      <th>0</th>\n",
              "      <td>HITAM</td>\n",
              "      <td>DOKTER</td>\n",
              "      <td>Adventure (Petualangan)</td>\n",
              "    </tr>\n",
              "    <tr>\n",
              "      <th>1</th>\n",
              "      <td>HITAM</td>\n",
              "      <td>PEGAWAI SWASTA, INDUSTRI</td>\n",
              "      <td>Adventure (Petualangan)</td>\n",
              "    </tr>\n",
              "    <tr>\n",
              "      <th>2</th>\n",
              "      <td>HITAM</td>\n",
              "      <td>MAHASISWA / PELAJAR</td>\n",
              "      <td>Adventure (Petualangan)</td>\n",
              "    </tr>\n",
              "    <tr>\n",
              "      <th>3</th>\n",
              "      <td>HITAM</td>\n",
              "      <td>PEGAWAI SWASTA, INDUSTRI</td>\n",
              "      <td>Makan</td>\n",
              "    </tr>\n",
              "    <tr>\n",
              "      <th>4</th>\n",
              "      <td>HITAM</td>\n",
              "      <td>MAHASISWA / PELAJAR</td>\n",
              "      <td>Adventure (Petualangan)</td>\n",
              "    </tr>\n",
              "  </tbody>\n",
              "</table>\n",
              "</div>"
            ],
            "text/plain": [
              "   COLOR                 PEKERJAAN                     HOBI\n",
              "0  HITAM                    DOKTER  Adventure (Petualangan)\n",
              "1  HITAM  PEGAWAI SWASTA, INDUSTRI  Adventure (Petualangan)\n",
              "2  HITAM       MAHASISWA / PELAJAR  Adventure (Petualangan)\n",
              "3  HITAM  PEGAWAI SWASTA, INDUSTRI                    Makan\n",
              "4  HITAM       MAHASISWA / PELAJAR  Adventure (Petualangan)"
            ]
          },
          "metadata": {},
          "execution_count": 9
        }
      ]
    },
    {
      "cell_type": "code",
      "metadata": {
        "colab": {
          "base_uri": "https://localhost:8080/"
        },
        "id": "fdjFcoJWXADW",
        "outputId": "cea3a13c-9fb7-41b3-985d-c99dd2f40b76"
      },
      "source": [
        "df.isna().sum()"
      ],
      "execution_count": 10,
      "outputs": [
        {
          "output_type": "execute_result",
          "data": {
            "text/plain": [
              "COLOR        0\n",
              "PEKERJAAN    0\n",
              "HOBI         0\n",
              "dtype: int64"
            ]
          },
          "metadata": {},
          "execution_count": 10
        }
      ]
    },
    {
      "cell_type": "code",
      "metadata": {
        "id": "i8ippWfcXD7R"
      },
      "source": [
        "list_1=list(df.columns)"
      ],
      "execution_count": 11,
      "outputs": []
    },
    {
      "cell_type": "code",
      "metadata": {
        "colab": {
          "base_uri": "https://localhost:8080/"
        },
        "id": "_cVKYZfBbtsc",
        "outputId": "bb56a822-61ae-4cfc-ea1a-4c9bb28bbe5a"
      },
      "source": [
        "df.columns"
      ],
      "execution_count": 12,
      "outputs": [
        {
          "output_type": "execute_result",
          "data": {
            "text/plain": [
              "Index(['COLOR', 'PEKERJAAN', 'HOBI'], dtype='object')"
            ]
          },
          "metadata": {},
          "execution_count": 12
        }
      ]
    },
    {
      "cell_type": "code",
      "metadata": {
        "id": "d3ks4OTRXUR9"
      },
      "source": [
        "list_cate=[]\n",
        "for i in list_1:\n",
        "    if df[i].dtype=='object':\n",
        "        list_cate.append(i)"
      ],
      "execution_count": 13,
      "outputs": []
    },
    {
      "cell_type": "code",
      "metadata": {
        "id": "gI4A20wiXW2i"
      },
      "source": [
        "from sklearn.preprocessing import LabelEncoder\n",
        "le=LabelEncoder()"
      ],
      "execution_count": 14,
      "outputs": []
    },
    {
      "cell_type": "code",
      "metadata": {
        "id": "kdS0INYEXcmG"
      },
      "source": [
        "for i in list_cate:\n",
        "    df[i]=le.fit_transform(df[i])"
      ],
      "execution_count": 15,
      "outputs": []
    },
    {
      "cell_type": "code",
      "metadata": {
        "colab": {
          "base_uri": "https://localhost:8080/",
          "height": 206
        },
        "id": "ex0jBZ6jXkLN",
        "outputId": "bac9221d-8c93-4edc-e9f7-bd7e41cc3bfe"
      },
      "source": [
        "df.head()"
      ],
      "execution_count": 16,
      "outputs": [
        {
          "output_type": "execute_result",
          "data": {
            "text/html": [
              "<div>\n",
              "<style scoped>\n",
              "    .dataframe tbody tr th:only-of-type {\n",
              "        vertical-align: middle;\n",
              "    }\n",
              "\n",
              "    .dataframe tbody tr th {\n",
              "        vertical-align: top;\n",
              "    }\n",
              "\n",
              "    .dataframe thead th {\n",
              "        text-align: right;\n",
              "    }\n",
              "</style>\n",
              "<table border=\"1\" class=\"dataframe\">\n",
              "  <thead>\n",
              "    <tr style=\"text-align: right;\">\n",
              "      <th></th>\n",
              "      <th>COLOR</th>\n",
              "      <th>PEKERJAAN</th>\n",
              "      <th>HOBI</th>\n",
              "    </tr>\n",
              "  </thead>\n",
              "  <tbody>\n",
              "    <tr>\n",
              "      <th>0</th>\n",
              "      <td>5</td>\n",
              "      <td>0</td>\n",
              "      <td>0</td>\n",
              "    </tr>\n",
              "    <tr>\n",
              "      <th>1</th>\n",
              "      <td>5</td>\n",
              "      <td>9</td>\n",
              "      <td>0</td>\n",
              "    </tr>\n",
              "    <tr>\n",
              "      <th>2</th>\n",
              "      <td>5</td>\n",
              "      <td>4</td>\n",
              "      <td>0</td>\n",
              "    </tr>\n",
              "    <tr>\n",
              "      <th>3</th>\n",
              "      <td>5</td>\n",
              "      <td>9</td>\n",
              "      <td>20</td>\n",
              "    </tr>\n",
              "    <tr>\n",
              "      <th>4</th>\n",
              "      <td>5</td>\n",
              "      <td>4</td>\n",
              "      <td>0</td>\n",
              "    </tr>\n",
              "  </tbody>\n",
              "</table>\n",
              "</div>"
            ],
            "text/plain": [
              "   COLOR  PEKERJAAN  HOBI\n",
              "0      5          0     0\n",
              "1      5          9     0\n",
              "2      5          4     0\n",
              "3      5          9    20\n",
              "4      5          4     0"
            ]
          },
          "metadata": {},
          "execution_count": 16
        }
      ]
    },
    {
      "cell_type": "code",
      "metadata": {
        "id": "F9GnJDH6XkR6"
      },
      "source": [
        "y=x\n",
        "x=df"
      ],
      "execution_count": 17,
      "outputs": []
    },
    {
      "cell_type": "code",
      "metadata": {
        "colab": {
          "base_uri": "https://localhost:8080/"
        },
        "id": "xVS9RpfWXu_Q",
        "outputId": "17decd2a-9ba2-42de-f4bd-dcbd19f3cecd"
      },
      "source": [
        "y.head()"
      ],
      "execution_count": 18,
      "outputs": [
        {
          "output_type": "execute_result",
          "data": {
            "text/plain": [
              "0    REVO FIT FI\n",
              "1    REVO FIT FI\n",
              "2    REVO FIT FI\n",
              "3    REVO FIT FI\n",
              "4    REVO FIT FI\n",
              "Name: TYPE MOTOR, dtype: object"
            ]
          },
          "metadata": {},
          "execution_count": 18
        }
      ]
    },
    {
      "cell_type": "code",
      "metadata": {
        "colab": {
          "base_uri": "https://localhost:8080/",
          "height": 206
        },
        "id": "sYI1vP7pXxN-",
        "outputId": "03516aed-0aeb-43ef-833e-99f329a7493c"
      },
      "source": [
        "x.head()"
      ],
      "execution_count": 19,
      "outputs": [
        {
          "output_type": "execute_result",
          "data": {
            "text/html": [
              "<div>\n",
              "<style scoped>\n",
              "    .dataframe tbody tr th:only-of-type {\n",
              "        vertical-align: middle;\n",
              "    }\n",
              "\n",
              "    .dataframe tbody tr th {\n",
              "        vertical-align: top;\n",
              "    }\n",
              "\n",
              "    .dataframe thead th {\n",
              "        text-align: right;\n",
              "    }\n",
              "</style>\n",
              "<table border=\"1\" class=\"dataframe\">\n",
              "  <thead>\n",
              "    <tr style=\"text-align: right;\">\n",
              "      <th></th>\n",
              "      <th>COLOR</th>\n",
              "      <th>PEKERJAAN</th>\n",
              "      <th>HOBI</th>\n",
              "    </tr>\n",
              "  </thead>\n",
              "  <tbody>\n",
              "    <tr>\n",
              "      <th>0</th>\n",
              "      <td>5</td>\n",
              "      <td>0</td>\n",
              "      <td>0</td>\n",
              "    </tr>\n",
              "    <tr>\n",
              "      <th>1</th>\n",
              "      <td>5</td>\n",
              "      <td>9</td>\n",
              "      <td>0</td>\n",
              "    </tr>\n",
              "    <tr>\n",
              "      <th>2</th>\n",
              "      <td>5</td>\n",
              "      <td>4</td>\n",
              "      <td>0</td>\n",
              "    </tr>\n",
              "    <tr>\n",
              "      <th>3</th>\n",
              "      <td>5</td>\n",
              "      <td>9</td>\n",
              "      <td>20</td>\n",
              "    </tr>\n",
              "    <tr>\n",
              "      <th>4</th>\n",
              "      <td>5</td>\n",
              "      <td>4</td>\n",
              "      <td>0</td>\n",
              "    </tr>\n",
              "  </tbody>\n",
              "</table>\n",
              "</div>"
            ],
            "text/plain": [
              "   COLOR  PEKERJAAN  HOBI\n",
              "0      5          0     0\n",
              "1      5          9     0\n",
              "2      5          4     0\n",
              "3      5          9    20\n",
              "4      5          4     0"
            ]
          },
          "metadata": {},
          "execution_count": 19
        }
      ]
    },
    {
      "cell_type": "code",
      "metadata": {
        "id": "tiANc3TEXzvN"
      },
      "source": [
        "from sklearn.model_selection import train_test_split\n",
        "x_train,x_test,y_train,y_test=train_test_split(x,y,random_state=0,test_size=0.2)"
      ],
      "execution_count": 20,
      "outputs": []
    },
    {
      "cell_type": "code",
      "metadata": {
        "colab": {
          "base_uri": "https://localhost:8080/"
        },
        "id": "MFEInAsYYN-D",
        "outputId": "4cb7137a-54b8-45bc-9d7b-f26114e0167e"
      },
      "source": [
        "print(len(x_train))\n",
        "print(len(x_test))\n",
        "print(len(y_train))\n",
        "print(len(y_test))"
      ],
      "execution_count": 21,
      "outputs": [
        {
          "output_type": "stream",
          "name": "stdout",
          "text": [
            "14892\n",
            "3724\n",
            "14892\n",
            "3724\n"
          ]
        }
      ]
    },
    {
      "cell_type": "code",
      "metadata": {
        "colab": {
          "base_uri": "https://localhost:8080/"
        },
        "id": "6KuAhVbuYhJY",
        "outputId": "62275d59-25c6-42aa-be07-fb111b0f8e74"
      },
      "source": [
        "from sklearn.neighbors import KNeighborsClassifier\n",
        "from sklearn import metrics\n",
        "#Ks = 10\n",
        "k = 10\n",
        "mean_acc = np.zeros((k-1))\n",
        "std_acc = np.zeros((k-1))\n",
        "ConfustionMx = [];\n",
        "for n in range(1,k):\n",
        "    \n",
        "    #Train Model and Predict  \n",
        "    neigh = KNeighborsClassifier(n_neighbors = n).fit(x_train,y_train)\n",
        "    yhat=neigh.predict(x_test)\n",
        "    mean_acc[n-1] = metrics.accuracy_score(y_test, yhat)\n",
        "\n",
        "    \n",
        "    std_acc[n-1]=np.std(yhat==y_test)/np.sqrt(yhat.shape[0])\n",
        "\n",
        "mean_acc"
      ],
      "execution_count": 22,
      "outputs": [
        {
          "output_type": "execute_result",
          "data": {
            "text/plain": [
              "array([0.49973147, 0.4906015 , 0.47099893, 0.48737916, 0.48308271,\n",
              "       0.48764769, 0.47771214, 0.48388829, 0.48093448])"
            ]
          },
          "metadata": {},
          "execution_count": 22
        }
      ]
    },
    {
      "cell_type": "code",
      "metadata": {
        "colab": {
          "base_uri": "https://localhost:8080/",
          "height": 297
        },
        "id": "QBFO49isiS11",
        "outputId": "777ad183-b287-413c-84c0-83f4d16a6139"
      },
      "source": [
        "plt.plot(range(1,k),mean_acc,'g')\n",
        "plt.fill_between(range(1,k),mean_acc - 1 * std_acc,mean_acc + 1 * std_acc, alpha=0.10)\n",
        "plt.legend(('Accuracy ', '+/- 3xstd'))\n",
        "plt.ylabel('Accuracy ')\n",
        "plt.xlabel('Number of Nabors (K)')\n",
        "plt.tight_layout()\n",
        "plt.show()"
      ],
      "execution_count": 23,
      "outputs": [
        {
          "output_type": "display_data",
          "data": {
            "image/png": "[encoded data removed]",
            "text/plain": [
              "<Figure size 432x288 with 1 Axes>"
            ]
          },
          "metadata": {
            "needs_background": "light"
          }
        }
      ]
    },
    {
      "cell_type": "code",
      "metadata": {
        "colab": {
          "base_uri": "https://localhost:8080/"
        },
        "id": "YRTTOT23Zlc3",
        "outputId": "597d9f7a-7b8e-4fe2-88ca-571a7c3df90a"
      },
      "source": [
        "knn=KNeighborsClassifier(n_neighbors=4)\n",
        "\n",
        "knn.fit(x_train,y_train)"
      ],
      "execution_count": 24,
      "outputs": [
        {
          "output_type": "execute_result",
          "data": {
            "text/plain": [
              "KNeighborsClassifier(n_neighbors=4)"
            ]
          },
          "metadata": {},
          "execution_count": 24
        }
      ]
    },
    {
      "cell_type": "code",
      "metadata": {
        "colab": {
          "base_uri": "https://localhost:8080/"
        },
        "id": "TtuAvHQLicRi",
        "outputId": "511914ae-fdd5-4aca-f4cc-0ef07cf4d436"
      },
      "source": [
        "from sklearn import metrics\n",
        "print(\"Train set Accuracy: \", metrics.accuracy_score(y_train, knn.predict(x_train)))\n",
        "print(\"Test set Accuracy: \", metrics.accuracy_score(y_test, yhat))"
      ],
      "execution_count": 25,
      "outputs": [
        {
          "output_type": "stream",
          "name": "stdout",
          "text": [
            "Train set Accuracy:  0.5540558689229116\n",
            "Test set Accuracy:  0.4809344790547798\n"
          ]
        }
      ]
    },
    {
      "cell_type": "code",
      "metadata": {
        "colab": {
          "base_uri": "https://localhost:8080/"
        },
        "id": "4KdksYZ2Z8W7",
        "outputId": "0bb66216-575f-47d4-dfc3-c29347cc0a3f"
      },
      "source": [
        "yhat = knn.predict(x_test)\n",
        "yhat[0:5]"
      ],
      "execution_count": 26,
      "outputs": [
        {
          "output_type": "execute_result",
          "data": {
            "text/plain": [
              "array(['ALL NEW SCOOPY', 'PCX 150 CBS', 'VARIO 125 CBS',\n",
              "       'VARIO 125 CBS ISS', 'VARIO 150'], dtype=object)"
            ]
          },
          "metadata": {},
          "execution_count": 26
        }
      ]
    }
  ]
}